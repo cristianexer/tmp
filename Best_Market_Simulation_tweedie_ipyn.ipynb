{
  "nbformat": 4,
  "nbformat_minor": 0,
  "metadata": {
    "colab": {
      "name": "Best- Market_Simulation - tweedie.ipyn",
      "provenance": [],
      "collapsed_sections": [],
      "include_colab_link": true
    },
    "kernelspec": {
      "display_name": "Python 3",
      "language": "python",
      "name": "python3"
    },
    "language_info": {
      "codemirror_mode": {
        "name": "ipython",
        "version": 3
      },
      "file_extension": ".py",
      "mimetype": "text/x-python",
      "name": "python",
      "nbconvert_exporter": "python",
      "pygments_lexer": "ipython3",
      "version": "3.8.5"
    }
  },
  "cells": [
    {
      "cell_type": "markdown",
      "metadata": {
        "id": "view-in-github",
        "colab_type": "text"
      },
      "source": [
        "<a href=\"https://colab.research.google.com/github/cristianexer/tmp/blob/main/Best_Market_Simulation_tweedie_ipyn.ipynb\" target=\"_parent\"><img src=\"https://colab.research.google.com/assets/colab-badge.svg\" alt=\"Open In Colab\"/></a>"
      ]
    },
    {
      "cell_type": "markdown",
      "metadata": {
        "id": "rWq4q0Gfp1Ha"
      },
      "source": [
        "<div style=\"text-align: center\">\n",
        "  <img alt=\"AIcrowd\" src=\"https://gitlab.aicrowd.com/jyotish/pricing-game-notebook-scripts/raw/master/pricing-game-banner.png\">\n",
        "</div>"
      ]
    },
    {
      "cell_type": "markdown",
      "metadata": {
        "id": "uIBNi6PiHFfD"
      },
      "source": [
        "# How to use this notebook 📝\n",
        "\n",
        "1. **Copy the notebook**. This is a shared template and any edits you make here will not be saved. _You should copy it into your own drive folder._ For this, click the \"File\" menu (top-left), then \"Save a Copy in Drive\". You can edit your copy however you like.\n",
        "2. **Link it to your AICrowd account**. In order to submit your code to AICrowd, you need to provide your account's API key (see [_\"Configure static variables\"_](#static-var) for details).\n",
        "3. **Stick to the function definitions**. The submission to AICrowd will look for the pre-defined function names:\n",
        "  - `fit_model`\n",
        "  - `save_model`\n",
        "  - `load_model`\n",
        "  - `predict_expected_claim`\n",
        "  - `predict_premium`\n",
        "\n",
        "    Anything else you write outside of these functions will not be part of the final submission (including constants and utility functions), so make sure everything is defined within them, except for:\n",
        "4. **Define your preprocessing**. In addition to the functions above, anything in the cell labelled [_\"Define your data preprocessing\"_](#data-preprocessing) will also be imported into your final submission. "
      ]
    },
    {
      "cell_type": "markdown",
      "metadata": {
        "id": "uor1bk8ud9Yf"
      },
      "source": [
        "# Your pricing model 🕵️\n",
        "\n",
        "In this notebook, you can play with the data, and define and train your pricing model. You can then directly submit it to the AICrowd, with some magic code at the end.\n",
        "\n",
        "### Baseline logistic regression 💪\n",
        "You can also play with a baseline logistic regression model [implemented here](https://colab.research.google.com/drive/1iDgDgWUw9QzOkbTYjeyY3i3DGuCoghs3?usp=sharing). "
      ]
    },
    {
      "cell_type": "markdown",
      "metadata": {
        "id": "KOG9aspEPfLo"
      },
      "source": [
        "# Setup the notebook 🛠"
      ]
    },
    {
      "cell_type": "code",
      "metadata": {
        "colab": {
          "base_uri": "https://localhost:8080/"
        },
        "id": "Cc9aD_S9w_Qs",
        "outputId": "35aae648-ed3e-41dd-be9d-908508f10833"
      },
      "source": [
        "!bash <(curl -sL https://gitlab.aicrowd.com/jyotish/pricing-game-notebook-scripts/raw/master/python/setup.sh)\n",
        "from aicrowd_helpers import *"
      ],
      "execution_count": null,
      "outputs": [
        {
          "output_type": "stream",
          "text": [
            "⚙️ Installing AIcrowd utilities...\n",
            "  Running command git clone -q https://gitlab.aicrowd.com/yoogottamk/aicrowd-cli /tmp/pip-req-build-l0jgw8hi\n",
            "✅ Installed AIcrowd utilities\n"
          ],
          "name": "stdout"
        }
      ]
    },
    {
      "cell_type": "markdown",
      "metadata": {
        "id": "oWAkvr2mPqhO"
      },
      "source": [
        "# Configure static variables 📎\n",
        "<a name=\"static-var\"></a>\n",
        "\n",
        "In order to submit using this notebook, you must visit this URL https://aicrowd.com/participants/me and copy your API key. \n",
        "\n",
        "Then you must set the value of `AICROWD_API_KEY` wuth the value."
      ]
    },
    {
      "cell_type": "code",
      "metadata": {
        "id": "3Z8nmleFd9Yf"
      },
      "source": [
        "import sklearn as sk\n",
        "\n",
        "class Config:\n",
        "  TRAINING_DATA_PATH = 'training.csv'\n",
        "  MODEL_OUTPUT_PATH = 'model.pkl'\n",
        "  AICROWD_API_KEY = ''  # You can get the key from https://aicrowd.com/participants/me\n",
        "  ADDITIONAL_PACKAGES = [\n",
        "    'numpy',  # you can define versions as well, numpy==0.19.2\n",
        "    'pandas',\n",
        "    'scikit-learn==' + sk.__version__,\n",
        "    'xgboost'\n",
        "    # NOTE THAT ANY TENSORFLOW VERSION HAS TO BE LOWER THAN 2.4. So 2.3XXX would work. \n",
        "  ]"
      ],
      "execution_count": null,
      "outputs": []
    },
    {
      "cell_type": "markdown",
      "metadata": {
        "id": "iK8Ki2WUjVoX"
      },
      "source": [
        "# Download dataset files 💾"
      ]
    },
    {
      "cell_type": "code",
      "metadata": {
        "colab": {
          "base_uri": "https://localhost:8080/"
        },
        "id": "cgKzpAV0jVFQ",
        "outputId": "eae6e223-f4b9-492a-b90d-1b22bc34500f"
      },
      "source": [
        "# Make sure to offically join the challenge and accept the challenge rules! Otherwise you will not be able to download the data\n",
        "%download_aicrowd_dataset"
      ],
      "execution_count": null,
      "outputs": [
        {
          "output_type": "stream",
          "text": [
            "💾 Downloading dataset...\n",
            "API Key valid\n",
            "Saved API Key successfully!\n",
            "✅ Downloaded dataset\n"
          ],
          "name": "stdout"
        }
      ]
    },
    {
      "cell_type": "markdown",
      "metadata": {
        "id": "5wrBpC0qd9Yg"
      },
      "source": [
        "# Packages 🗃\n",
        "\n",
        "<a name=\"packages\"></a>\n",
        "\n",
        "Import here all the packages you need to define your model. **You will need to include all of these packages in `Config.ADDITIONAL_PACKAGES` for your code to run properly once submitted.**"
      ]
    },
    {
      "cell_type": "code",
      "metadata": {
        "id": "og7CzASIVver"
      },
      "source": [
        "%%capture\n",
        "!pip install -U xgboost"
      ],
      "execution_count": null,
      "outputs": []
    },
    {
      "cell_type": "code",
      "metadata": {
        "id": "4q4C50Fsd9Yg"
      },
      "source": [
        "%%track_imports\n",
        "\n",
        "import numpy as np\n",
        "import pandas as pd\n",
        "import pickle\n",
        "import sklearn as sk\n",
        "from sklearn.preprocessing import LabelEncoder\n",
        "from sklearn.decomposition import PCA\n",
        "from sklearn.naive_bayes import GaussianNB\n",
        "from sklearn.linear_model import LogisticRegression\n",
        "from sklearn.impute import SimpleImputer, KNNImputer\n",
        "from sklearn.preprocessing import KBinsDiscretizer\n",
        "import xgboost as xgb"
      ],
      "execution_count": null,
      "outputs": []
    },
    {
      "cell_type": "code",
      "metadata": {
        "colab": {
          "base_uri": "https://localhost:8080/",
          "height": 37
        },
        "id": "9q117i8xV-oZ",
        "outputId": "e7b92e80-5ed9-48f1-95db-51fad84338ce"
      },
      "source": [
        "import xgboost as xgb\n",
        "from sklearn import metrics\n",
        "from sklearn.decomposition import PCA\n",
        "from sklearn.impute import SimpleImputer, KNNImputer\n",
        "xgb.__version__"
      ],
      "execution_count": null,
      "outputs": [
        {
          "output_type": "execute_result",
          "data": {
            "application/vnd.google.colaboratory.intrinsic+json": {
              "type": "string"
            },
            "text/plain": [
              "'1.3.3'"
            ]
          },
          "metadata": {
            "tags": []
          },
          "execution_count": 6
        }
      ]
    },
    {
      "cell_type": "code",
      "metadata": {
        "id": "lR62QOUGd9Yg"
      },
      "source": [
        "import importlib\n",
        "import global_imports\n",
        "importlib.reload(global_imports)\n",
        "from global_imports import *  # do not change this"
      ],
      "execution_count": null,
      "outputs": []
    },
    {
      "cell_type": "code",
      "metadata": {
        "id": "KFCw59yAqL_I"
      },
      "source": [
        "%%capture\n",
        "import seaborn as sns\n",
        "import matplotlib.pyplot as plt\n",
        "sns.set_style('whitegrid')\n",
        "\n",
        "try:\n",
        "    import shap\n",
        "except:\n",
        "    !pip install shap\n",
        "    import shap"
      ],
      "execution_count": null,
      "outputs": []
    },
    {
      "cell_type": "markdown",
      "metadata": {
        "id": "YRgsbwWwd9Yg"
      },
      "source": [
        "# Loading the data 📲"
      ]
    },
    {
      "cell_type": "code",
      "metadata": {
        "id": "vQQghMU7d9Yg"
      },
      "source": [
        "df = pd.read_csv(Config.TRAINING_DATA_PATH)\n",
        "X_train = df.drop(columns=['claim_amount'])\n",
        "y_train = df['claim_amount']"
      ],
      "execution_count": null,
      "outputs": []
    },
    {
      "cell_type": "markdown",
      "metadata": {
        "id": "WArx8uDQd9Yh"
      },
      "source": [
        "## How does the data look like? 🔍"
      ]
    },
    {
      "cell_type": "code",
      "metadata": {
        "colab": {
          "base_uri": "https://localhost:8080/",
          "height": 193
        },
        "id": "O_dyebPyQbSO",
        "outputId": "335abbce-f46f-49f2-8b7c-d4f9d6401e6c"
      },
      "source": [
        "X_train.sample(n=4)"
      ],
      "execution_count": null,
      "outputs": [
        {
          "output_type": "execute_result",
          "data": {
            "text/html": [
              "<div>\n",
              "<style scoped>\n",
              "    .dataframe tbody tr th:only-of-type {\n",
              "        vertical-align: middle;\n",
              "    }\n",
              "\n",
              "    .dataframe tbody tr th {\n",
              "        vertical-align: top;\n",
              "    }\n",
              "\n",
              "    .dataframe thead th {\n",
              "        text-align: right;\n",
              "    }\n",
              "</style>\n",
              "<table border=\"1\" class=\"dataframe\">\n",
              "  <thead>\n",
              "    <tr style=\"text-align: right;\">\n",
              "      <th></th>\n",
              "      <th>id_policy</th>\n",
              "      <th>year</th>\n",
              "      <th>pol_no_claims_discount</th>\n",
              "      <th>pol_coverage</th>\n",
              "      <th>pol_duration</th>\n",
              "      <th>pol_sit_duration</th>\n",
              "      <th>pol_pay_freq</th>\n",
              "      <th>pol_payd</th>\n",
              "      <th>pol_usage</th>\n",
              "      <th>drv_sex1</th>\n",
              "      <th>drv_age1</th>\n",
              "      <th>drv_age_lic1</th>\n",
              "      <th>drv_drv2</th>\n",
              "      <th>drv_sex2</th>\n",
              "      <th>drv_age2</th>\n",
              "      <th>drv_age_lic2</th>\n",
              "      <th>vh_make_model</th>\n",
              "      <th>vh_age</th>\n",
              "      <th>vh_fuel</th>\n",
              "      <th>vh_type</th>\n",
              "      <th>vh_speed</th>\n",
              "      <th>vh_value</th>\n",
              "      <th>vh_weight</th>\n",
              "      <th>population</th>\n",
              "      <th>town_surface_area</th>\n",
              "    </tr>\n",
              "  </thead>\n",
              "  <tbody>\n",
              "    <tr>\n",
              "      <th>210281</th>\n",
              "      <td>PL017033</td>\n",
              "      <td>4.0</td>\n",
              "      <td>0.483</td>\n",
              "      <td>Max</td>\n",
              "      <td>5</td>\n",
              "      <td>5</td>\n",
              "      <td>Monthly</td>\n",
              "      <td>No</td>\n",
              "      <td>WorkPrivate</td>\n",
              "      <td>F</td>\n",
              "      <td>29.0</td>\n",
              "      <td>10.0</td>\n",
              "      <td>Yes</td>\n",
              "      <td>M</td>\n",
              "      <td>27.0</td>\n",
              "      <td>9.0</td>\n",
              "      <td>jjycmklnkdivnypu</td>\n",
              "      <td>6.0</td>\n",
              "      <td>Diesel</td>\n",
              "      <td>Tourism</td>\n",
              "      <td>174.0</td>\n",
              "      <td>13904.0</td>\n",
              "      <td>1260.0</td>\n",
              "      <td>40.0</td>\n",
              "      <td>81.4</td>\n",
              "    </tr>\n",
              "    <tr>\n",
              "      <th>216299</th>\n",
              "      <td>PL024857</td>\n",
              "      <td>4.0</td>\n",
              "      <td>0.000</td>\n",
              "      <td>Med2</td>\n",
              "      <td>14</td>\n",
              "      <td>4</td>\n",
              "      <td>Monthly</td>\n",
              "      <td>No</td>\n",
              "      <td>WorkPrivate</td>\n",
              "      <td>F</td>\n",
              "      <td>52.0</td>\n",
              "      <td>32.0</td>\n",
              "      <td>Yes</td>\n",
              "      <td>F</td>\n",
              "      <td>25.0</td>\n",
              "      <td>6.0</td>\n",
              "      <td>biqzvbfzjivqmrro</td>\n",
              "      <td>12.0</td>\n",
              "      <td>Gasoline</td>\n",
              "      <td>Tourism</td>\n",
              "      <td>140.0</td>\n",
              "      <td>1113.0</td>\n",
              "      <td>393.0</td>\n",
              "      <td>380.0</td>\n",
              "      <td>320.9</td>\n",
              "    </tr>\n",
              "    <tr>\n",
              "      <th>138744</th>\n",
              "      <td>PL058726</td>\n",
              "      <td>3.0</td>\n",
              "      <td>0.000</td>\n",
              "      <td>Max</td>\n",
              "      <td>5</td>\n",
              "      <td>4</td>\n",
              "      <td>Monthly</td>\n",
              "      <td>No</td>\n",
              "      <td>Professional</td>\n",
              "      <td>M</td>\n",
              "      <td>53.0</td>\n",
              "      <td>12.0</td>\n",
              "      <td>Yes</td>\n",
              "      <td>F</td>\n",
              "      <td>44.0</td>\n",
              "      <td>16.0</td>\n",
              "      <td>rthsjeyjgdlmkygk</td>\n",
              "      <td>6.0</td>\n",
              "      <td>Diesel</td>\n",
              "      <td>Tourism</td>\n",
              "      <td>182.0</td>\n",
              "      <td>12820.0</td>\n",
              "      <td>1036.0</td>\n",
              "      <td>1190.0</td>\n",
              "      <td>43.0</td>\n",
              "    </tr>\n",
              "    <tr>\n",
              "      <th>156868</th>\n",
              "      <td>PL036093</td>\n",
              "      <td>3.0</td>\n",
              "      <td>0.000</td>\n",
              "      <td>Max</td>\n",
              "      <td>4</td>\n",
              "      <td>3</td>\n",
              "      <td>Yearly</td>\n",
              "      <td>No</td>\n",
              "      <td>WorkPrivate</td>\n",
              "      <td>F</td>\n",
              "      <td>53.0</td>\n",
              "      <td>34.0</td>\n",
              "      <td>Yes</td>\n",
              "      <td>F</td>\n",
              "      <td>26.0</td>\n",
              "      <td>7.0</td>\n",
              "      <td>aifsqdniwqmcuqpv</td>\n",
              "      <td>8.0</td>\n",
              "      <td>Diesel</td>\n",
              "      <td>Tourism</td>\n",
              "      <td>138.0</td>\n",
              "      <td>8644.0</td>\n",
              "      <td>1086.0</td>\n",
              "      <td>2550.0</td>\n",
              "      <td>93.5</td>\n",
              "    </tr>\n",
              "  </tbody>\n",
              "</table>\n",
              "</div>"
            ],
            "text/plain": [
              "       id_policy  year  ...  population town_surface_area\n",
              "210281  PL017033   4.0  ...        40.0              81.4\n",
              "216299  PL024857   4.0  ...       380.0             320.9\n",
              "138744  PL058726   3.0  ...      1190.0              43.0\n",
              "156868  PL036093   3.0  ...      2550.0              93.5\n",
              "\n",
              "[4 rows x 25 columns]"
            ]
          },
          "metadata": {
            "tags": []
          },
          "execution_count": 10
        }
      ]
    },
    {
      "cell_type": "code",
      "metadata": {
        "colab": {
          "base_uri": "https://localhost:8080/"
        },
        "id": "WoJEQhxMQtq9",
        "outputId": "f276595e-43a5-4464-ff3d-6a837de41e9a"
      },
      "source": [
        "y_train.sample(n=4)"
      ],
      "execution_count": null,
      "outputs": [
        {
          "output_type": "execute_result",
          "data": {
            "text/plain": [
              "15042     0.0\n",
              "200014    0.0\n",
              "7932      0.0\n",
              "103882    0.0\n",
              "Name: claim_amount, dtype: float64"
            ]
          },
          "metadata": {
            "tags": []
          },
          "execution_count": 11
        }
      ]
    },
    {
      "cell_type": "markdown",
      "metadata": {
        "id": "ynDfq7F_d9Yh"
      },
      "source": [
        "# Training the model 🚀\n",
        "\n",
        "You must first define your first function: `fit_model`. This function takes training data as arguments, and outputs a \"model\" object -- that you define as you wish. For instance, this could be an array of parameter values."
      ]
    },
    {
      "cell_type": "markdown",
      "metadata": {
        "id": "CpW0yH_Lj2hG"
      },
      "source": [
        "## Define your data preprocessing\n",
        "\n",
        "<a name=\"data-preprocessing\"></a>\n",
        "\n",
        "You can add any class or function in this cell for preprocessing. Just make sure that you use the functions here in the `fit_model`, `predict_expected_claim` and `predict_premium` functions if necessary. *italicised text*"
      ]
    },
    {
      "cell_type": "code",
      "metadata": {
        "colab": {
          "base_uri": "https://localhost:8080/",
          "height": 439
        },
        "id": "qhESf7_xZ_52",
        "outputId": "d0de3741-1ab7-49c9-f97b-6e6cf65fb6d6"
      },
      "source": [
        "df"
      ],
      "execution_count": null,
      "outputs": [
        {
          "output_type": "execute_result",
          "data": {
            "text/html": [
              "<div>\n",
              "<style scoped>\n",
              "    .dataframe tbody tr th:only-of-type {\n",
              "        vertical-align: middle;\n",
              "    }\n",
              "\n",
              "    .dataframe tbody tr th {\n",
              "        vertical-align: top;\n",
              "    }\n",
              "\n",
              "    .dataframe thead th {\n",
              "        text-align: right;\n",
              "    }\n",
              "</style>\n",
              "<table border=\"1\" class=\"dataframe\">\n",
              "  <thead>\n",
              "    <tr style=\"text-align: right;\">\n",
              "      <th></th>\n",
              "      <th>id_policy</th>\n",
              "      <th>year</th>\n",
              "      <th>pol_no_claims_discount</th>\n",
              "      <th>pol_coverage</th>\n",
              "      <th>pol_duration</th>\n",
              "      <th>pol_sit_duration</th>\n",
              "      <th>pol_pay_freq</th>\n",
              "      <th>pol_payd</th>\n",
              "      <th>pol_usage</th>\n",
              "      <th>drv_sex1</th>\n",
              "      <th>drv_age1</th>\n",
              "      <th>drv_age_lic1</th>\n",
              "      <th>drv_drv2</th>\n",
              "      <th>drv_sex2</th>\n",
              "      <th>drv_age2</th>\n",
              "      <th>drv_age_lic2</th>\n",
              "      <th>vh_make_model</th>\n",
              "      <th>vh_age</th>\n",
              "      <th>vh_fuel</th>\n",
              "      <th>vh_type</th>\n",
              "      <th>vh_speed</th>\n",
              "      <th>vh_value</th>\n",
              "      <th>vh_weight</th>\n",
              "      <th>population</th>\n",
              "      <th>town_surface_area</th>\n",
              "      <th>claim_amount</th>\n",
              "    </tr>\n",
              "  </thead>\n",
              "  <tbody>\n",
              "    <tr>\n",
              "      <th>0</th>\n",
              "      <td>PL000000</td>\n",
              "      <td>1.0</td>\n",
              "      <td>0.332</td>\n",
              "      <td>Med2</td>\n",
              "      <td>5</td>\n",
              "      <td>1</td>\n",
              "      <td>Monthly</td>\n",
              "      <td>No</td>\n",
              "      <td>WorkPrivate</td>\n",
              "      <td>M</td>\n",
              "      <td>35.0</td>\n",
              "      <td>16.0</td>\n",
              "      <td>Yes</td>\n",
              "      <td>F</td>\n",
              "      <td>26.0</td>\n",
              "      <td>1.0</td>\n",
              "      <td>aparvvfowrjncdhp</td>\n",
              "      <td>8.0</td>\n",
              "      <td>Gasoline</td>\n",
              "      <td>Tourism</td>\n",
              "      <td>174.0</td>\n",
              "      <td>11040.0</td>\n",
              "      <td>1143.0</td>\n",
              "      <td>1270.0</td>\n",
              "      <td>33.1</td>\n",
              "      <td>0.0</td>\n",
              "    </tr>\n",
              "    <tr>\n",
              "      <th>1</th>\n",
              "      <td>PL042495</td>\n",
              "      <td>1.0</td>\n",
              "      <td>0.000</td>\n",
              "      <td>Med2</td>\n",
              "      <td>6</td>\n",
              "      <td>1</td>\n",
              "      <td>Monthly</td>\n",
              "      <td>No</td>\n",
              "      <td>WorkPrivate</td>\n",
              "      <td>M</td>\n",
              "      <td>60.0</td>\n",
              "      <td>41.0</td>\n",
              "      <td>No</td>\n",
              "      <td>0</td>\n",
              "      <td>NaN</td>\n",
              "      <td>NaN</td>\n",
              "      <td>aparvvfowrjncdhp</td>\n",
              "      <td>10.0</td>\n",
              "      <td>Diesel</td>\n",
              "      <td>Tourism</td>\n",
              "      <td>174.0</td>\n",
              "      <td>11040.0</td>\n",
              "      <td>1143.0</td>\n",
              "      <td>1290.0</td>\n",
              "      <td>51.3</td>\n",
              "      <td>0.0</td>\n",
              "    </tr>\n",
              "    <tr>\n",
              "      <th>2</th>\n",
              "      <td>PL042496</td>\n",
              "      <td>1.0</td>\n",
              "      <td>0.196</td>\n",
              "      <td>Med1</td>\n",
              "      <td>2</td>\n",
              "      <td>1</td>\n",
              "      <td>Yearly</td>\n",
              "      <td>Yes</td>\n",
              "      <td>Retired</td>\n",
              "      <td>M</td>\n",
              "      <td>55.0</td>\n",
              "      <td>35.0</td>\n",
              "      <td>Yes</td>\n",
              "      <td>F</td>\n",
              "      <td>57.0</td>\n",
              "      <td>38.0</td>\n",
              "      <td>iwhqpdfuhrsxyqxe</td>\n",
              "      <td>8.0</td>\n",
              "      <td>Diesel</td>\n",
              "      <td>Commercial</td>\n",
              "      <td>150.0</td>\n",
              "      <td>14159.0</td>\n",
              "      <td>1193.0</td>\n",
              "      <td>1020.0</td>\n",
              "      <td>262.8</td>\n",
              "      <td>0.0</td>\n",
              "    </tr>\n",
              "    <tr>\n",
              "      <th>3</th>\n",
              "      <td>PL042497</td>\n",
              "      <td>1.0</td>\n",
              "      <td>0.000</td>\n",
              "      <td>Med2</td>\n",
              "      <td>8</td>\n",
              "      <td>5</td>\n",
              "      <td>Yearly</td>\n",
              "      <td>No</td>\n",
              "      <td>WorkPrivate</td>\n",
              "      <td>F</td>\n",
              "      <td>54.0</td>\n",
              "      <td>31.0</td>\n",
              "      <td>No</td>\n",
              "      <td>0</td>\n",
              "      <td>NaN</td>\n",
              "      <td>NaN</td>\n",
              "      <td>kvcddisqpkysmvvo</td>\n",
              "      <td>4.0</td>\n",
              "      <td>Gasoline</td>\n",
              "      <td>Tourism</td>\n",
              "      <td>149.0</td>\n",
              "      <td>17233.0</td>\n",
              "      <td>1012.0</td>\n",
              "      <td>180.0</td>\n",
              "      <td>219.7</td>\n",
              "      <td>0.0</td>\n",
              "    </tr>\n",
              "    <tr>\n",
              "      <th>4</th>\n",
              "      <td>PL042498</td>\n",
              "      <td>1.0</td>\n",
              "      <td>0.000</td>\n",
              "      <td>Med1</td>\n",
              "      <td>2</td>\n",
              "      <td>2</td>\n",
              "      <td>Yearly</td>\n",
              "      <td>No</td>\n",
              "      <td>Retired</td>\n",
              "      <td>F</td>\n",
              "      <td>65.0</td>\n",
              "      <td>38.0</td>\n",
              "      <td>No</td>\n",
              "      <td>0</td>\n",
              "      <td>NaN</td>\n",
              "      <td>NaN</td>\n",
              "      <td>tdgkjlphosocwbgu</td>\n",
              "      <td>13.0</td>\n",
              "      <td>Gasoline</td>\n",
              "      <td>Tourism</td>\n",
              "      <td>200.0</td>\n",
              "      <td>19422.0</td>\n",
              "      <td>1315.0</td>\n",
              "      <td>30.0</td>\n",
              "      <td>70.3</td>\n",
              "      <td>0.0</td>\n",
              "    </tr>\n",
              "    <tr>\n",
              "      <th>...</th>\n",
              "      <td>...</td>\n",
              "      <td>...</td>\n",
              "      <td>...</td>\n",
              "      <td>...</td>\n",
              "      <td>...</td>\n",
              "      <td>...</td>\n",
              "      <td>...</td>\n",
              "      <td>...</td>\n",
              "      <td>...</td>\n",
              "      <td>...</td>\n",
              "      <td>...</td>\n",
              "      <td>...</td>\n",
              "      <td>...</td>\n",
              "      <td>...</td>\n",
              "      <td>...</td>\n",
              "      <td>...</td>\n",
              "      <td>...</td>\n",
              "      <td>...</td>\n",
              "      <td>...</td>\n",
              "      <td>...</td>\n",
              "      <td>...</td>\n",
              "      <td>...</td>\n",
              "      <td>...</td>\n",
              "      <td>...</td>\n",
              "      <td>...</td>\n",
              "      <td>...</td>\n",
              "    </tr>\n",
              "    <tr>\n",
              "      <th>228211</th>\n",
              "      <td>PL008818</td>\n",
              "      <td>4.0</td>\n",
              "      <td>0.087</td>\n",
              "      <td>Med2</td>\n",
              "      <td>4</td>\n",
              "      <td>4</td>\n",
              "      <td>Monthly</td>\n",
              "      <td>No</td>\n",
              "      <td>WorkPrivate</td>\n",
              "      <td>F</td>\n",
              "      <td>50.0</td>\n",
              "      <td>28.0</td>\n",
              "      <td>Yes</td>\n",
              "      <td>F</td>\n",
              "      <td>23.0</td>\n",
              "      <td>5.0</td>\n",
              "      <td>ubttjiaeeuwzcclq</td>\n",
              "      <td>15.0</td>\n",
              "      <td>Diesel</td>\n",
              "      <td>Tourism</td>\n",
              "      <td>179.0</td>\n",
              "      <td>16047.0</td>\n",
              "      <td>955.0</td>\n",
              "      <td>1030.0</td>\n",
              "      <td>95.3</td>\n",
              "      <td>0.0</td>\n",
              "    </tr>\n",
              "    <tr>\n",
              "      <th>228212</th>\n",
              "      <td>PL055033</td>\n",
              "      <td>4.0</td>\n",
              "      <td>0.000</td>\n",
              "      <td>Max</td>\n",
              "      <td>14</td>\n",
              "      <td>5</td>\n",
              "      <td>Monthly</td>\n",
              "      <td>No</td>\n",
              "      <td>WorkPrivate</td>\n",
              "      <td>M</td>\n",
              "      <td>40.0</td>\n",
              "      <td>22.0</td>\n",
              "      <td>Yes</td>\n",
              "      <td>F</td>\n",
              "      <td>34.0</td>\n",
              "      <td>12.0</td>\n",
              "      <td>gfhjqtkgvomiygvx</td>\n",
              "      <td>5.0</td>\n",
              "      <td>Diesel</td>\n",
              "      <td>Tourism</td>\n",
              "      <td>139.0</td>\n",
              "      <td>11985.0</td>\n",
              "      <td>1264.0</td>\n",
              "      <td>30.0</td>\n",
              "      <td>89.6</td>\n",
              "      <td>0.0</td>\n",
              "    </tr>\n",
              "    <tr>\n",
              "      <th>228213</th>\n",
              "      <td>PL061619</td>\n",
              "      <td>4.0</td>\n",
              "      <td>0.181</td>\n",
              "      <td>Max</td>\n",
              "      <td>10</td>\n",
              "      <td>4</td>\n",
              "      <td>Yearly</td>\n",
              "      <td>No</td>\n",
              "      <td>Retired</td>\n",
              "      <td>F</td>\n",
              "      <td>71.0</td>\n",
              "      <td>37.0</td>\n",
              "      <td>No</td>\n",
              "      <td>0</td>\n",
              "      <td>NaN</td>\n",
              "      <td>NaN</td>\n",
              "      <td>swjkmyqytzxjwgag</td>\n",
              "      <td>15.0</td>\n",
              "      <td>Gasoline</td>\n",
              "      <td>Tourism</td>\n",
              "      <td>175.0</td>\n",
              "      <td>23900.0</td>\n",
              "      <td>1285.0</td>\n",
              "      <td>290.0</td>\n",
              "      <td>106.1</td>\n",
              "      <td>0.0</td>\n",
              "    </tr>\n",
              "    <tr>\n",
              "      <th>228214</th>\n",
              "      <td>PL060903</td>\n",
              "      <td>4.0</td>\n",
              "      <td>0.000</td>\n",
              "      <td>Max</td>\n",
              "      <td>25</td>\n",
              "      <td>15</td>\n",
              "      <td>Biannual</td>\n",
              "      <td>No</td>\n",
              "      <td>Professional</td>\n",
              "      <td>M</td>\n",
              "      <td>49.0</td>\n",
              "      <td>31.0</td>\n",
              "      <td>No</td>\n",
              "      <td>0</td>\n",
              "      <td>NaN</td>\n",
              "      <td>NaN</td>\n",
              "      <td>ponwkmeaxagundzq</td>\n",
              "      <td>31.0</td>\n",
              "      <td>Diesel</td>\n",
              "      <td>Tourism</td>\n",
              "      <td>198.0</td>\n",
              "      <td>20002.0</td>\n",
              "      <td>1320.0</td>\n",
              "      <td>30.0</td>\n",
              "      <td>104.4</td>\n",
              "      <td>0.0</td>\n",
              "    </tr>\n",
              "    <tr>\n",
              "      <th>228215</th>\n",
              "      <td>PL052240</td>\n",
              "      <td>4.0</td>\n",
              "      <td>0.000</td>\n",
              "      <td>Max</td>\n",
              "      <td>7</td>\n",
              "      <td>6</td>\n",
              "      <td>Biannual</td>\n",
              "      <td>No</td>\n",
              "      <td>WorkPrivate</td>\n",
              "      <td>F</td>\n",
              "      <td>63.0</td>\n",
              "      <td>32.0</td>\n",
              "      <td>Yes</td>\n",
              "      <td>M</td>\n",
              "      <td>55.0</td>\n",
              "      <td>35.0</td>\n",
              "      <td>iwhqpdfuhrsxyqxe</td>\n",
              "      <td>7.0</td>\n",
              "      <td>Diesel</td>\n",
              "      <td>Tourism</td>\n",
              "      <td>150.0</td>\n",
              "      <td>14159.0</td>\n",
              "      <td>1193.0</td>\n",
              "      <td>280.0</td>\n",
              "      <td>147.8</td>\n",
              "      <td>0.0</td>\n",
              "    </tr>\n",
              "  </tbody>\n",
              "</table>\n",
              "<p>228216 rows × 26 columns</p>\n",
              "</div>"
            ],
            "text/plain": [
              "       id_policy  year  ...  town_surface_area claim_amount\n",
              "0       PL000000   1.0  ...               33.1          0.0\n",
              "1       PL042495   1.0  ...               51.3          0.0\n",
              "2       PL042496   1.0  ...              262.8          0.0\n",
              "3       PL042497   1.0  ...              219.7          0.0\n",
              "4       PL042498   1.0  ...               70.3          0.0\n",
              "...          ...   ...  ...                ...          ...\n",
              "228211  PL008818   4.0  ...               95.3          0.0\n",
              "228212  PL055033   4.0  ...               89.6          0.0\n",
              "228213  PL061619   4.0  ...              106.1          0.0\n",
              "228214  PL060903   4.0  ...              104.4          0.0\n",
              "228215  PL052240   4.0  ...              147.8          0.0\n",
              "\n",
              "[228216 rows x 26 columns]"
            ]
          },
          "metadata": {
            "tags": []
          },
          "execution_count": 12
        }
      ]
    },
    {
      "cell_type": "code",
      "metadata": {
        "id": "htxLoc1EhRI0"
      },
      "source": [
        "def claim_count(x):\n",
        "    return (x > 0).sum().astype(int)"
      ],
      "execution_count": null,
      "outputs": []
    },
    {
      "cell_type": "code",
      "metadata": {
        "colab": {
          "base_uri": "https://localhost:8080/",
          "height": 419
        },
        "id": "Z8uDzOoP8nKN",
        "outputId": "34d709e3-2515-427c-8ba1-550d28ec657a"
      },
      "source": [
        "tmp = df.loc[df.year < 3].groupby('id_policy',as_index=False).agg({\n",
        "    'claim_amount': ['mean','std','sum',claim_count]\n",
        "})\n",
        "tmp.columns = [ '_'.join(x) if x[1] !='' else x[0] for x in tmp.columns]\n",
        "tmp"
      ],
      "execution_count": null,
      "outputs": [
        {
          "output_type": "execute_result",
          "data": {
            "text/html": [
              "<div>\n",
              "<style scoped>\n",
              "    .dataframe tbody tr th:only-of-type {\n",
              "        vertical-align: middle;\n",
              "    }\n",
              "\n",
              "    .dataframe tbody tr th {\n",
              "        vertical-align: top;\n",
              "    }\n",
              "\n",
              "    .dataframe thead th {\n",
              "        text-align: right;\n",
              "    }\n",
              "</style>\n",
              "<table border=\"1\" class=\"dataframe\">\n",
              "  <thead>\n",
              "    <tr style=\"text-align: right;\">\n",
              "      <th></th>\n",
              "      <th>id_policy</th>\n",
              "      <th>claim_amount_mean</th>\n",
              "      <th>claim_amount_std</th>\n",
              "      <th>claim_amount_sum</th>\n",
              "      <th>claim_amount_claim_count</th>\n",
              "    </tr>\n",
              "  </thead>\n",
              "  <tbody>\n",
              "    <tr>\n",
              "      <th>0</th>\n",
              "      <td>PL000000</td>\n",
              "      <td>0.000</td>\n",
              "      <td>0.000000</td>\n",
              "      <td>0.00</td>\n",
              "      <td>0.0</td>\n",
              "    </tr>\n",
              "    <tr>\n",
              "      <th>1</th>\n",
              "      <td>PL000001</td>\n",
              "      <td>0.000</td>\n",
              "      <td>0.000000</td>\n",
              "      <td>0.00</td>\n",
              "      <td>0.0</td>\n",
              "    </tr>\n",
              "    <tr>\n",
              "      <th>2</th>\n",
              "      <td>PL000003</td>\n",
              "      <td>0.000</td>\n",
              "      <td>0.000000</td>\n",
              "      <td>0.00</td>\n",
              "      <td>0.0</td>\n",
              "    </tr>\n",
              "    <tr>\n",
              "      <th>3</th>\n",
              "      <td>PL000005</td>\n",
              "      <td>0.000</td>\n",
              "      <td>0.000000</td>\n",
              "      <td>0.00</td>\n",
              "      <td>0.0</td>\n",
              "    </tr>\n",
              "    <tr>\n",
              "      <th>4</th>\n",
              "      <td>PL000007</td>\n",
              "      <td>0.000</td>\n",
              "      <td>0.000000</td>\n",
              "      <td>0.00</td>\n",
              "      <td>0.0</td>\n",
              "    </tr>\n",
              "    <tr>\n",
              "      <th>...</th>\n",
              "      <td>...</td>\n",
              "      <td>...</td>\n",
              "      <td>...</td>\n",
              "      <td>...</td>\n",
              "      <td>...</td>\n",
              "    </tr>\n",
              "    <tr>\n",
              "      <th>57049</th>\n",
              "      <td>PL095628</td>\n",
              "      <td>565.980</td>\n",
              "      <td>800.416592</td>\n",
              "      <td>1131.96</td>\n",
              "      <td>1.0</td>\n",
              "    </tr>\n",
              "    <tr>\n",
              "      <th>57050</th>\n",
              "      <td>PL095631</td>\n",
              "      <td>0.000</td>\n",
              "      <td>0.000000</td>\n",
              "      <td>0.00</td>\n",
              "      <td>0.0</td>\n",
              "    </tr>\n",
              "    <tr>\n",
              "      <th>57051</th>\n",
              "      <td>PL095633</td>\n",
              "      <td>0.000</td>\n",
              "      <td>0.000000</td>\n",
              "      <td>0.00</td>\n",
              "      <td>0.0</td>\n",
              "    </tr>\n",
              "    <tr>\n",
              "      <th>57052</th>\n",
              "      <td>PL095634</td>\n",
              "      <td>926.945</td>\n",
              "      <td>1310.898191</td>\n",
              "      <td>1853.89</td>\n",
              "      <td>1.0</td>\n",
              "    </tr>\n",
              "    <tr>\n",
              "      <th>57053</th>\n",
              "      <td>PL095635</td>\n",
              "      <td>0.000</td>\n",
              "      <td>0.000000</td>\n",
              "      <td>0.00</td>\n",
              "      <td>0.0</td>\n",
              "    </tr>\n",
              "  </tbody>\n",
              "</table>\n",
              "<p>57054 rows × 5 columns</p>\n",
              "</div>"
            ],
            "text/plain": [
              "      id_policy  claim_amount_mean  ...  claim_amount_sum  claim_amount_claim_count\n",
              "0      PL000000              0.000  ...              0.00                       0.0\n",
              "1      PL000001              0.000  ...              0.00                       0.0\n",
              "2      PL000003              0.000  ...              0.00                       0.0\n",
              "3      PL000005              0.000  ...              0.00                       0.0\n",
              "4      PL000007              0.000  ...              0.00                       0.0\n",
              "...         ...                ...  ...               ...                       ...\n",
              "57049  PL095628            565.980  ...           1131.96                       1.0\n",
              "57050  PL095631              0.000  ...              0.00                       0.0\n",
              "57051  PL095633              0.000  ...              0.00                       0.0\n",
              "57052  PL095634            926.945  ...           1853.89                       1.0\n",
              "57053  PL095635              0.000  ...              0.00                       0.0\n",
              "\n",
              "[57054 rows x 5 columns]"
            ]
          },
          "metadata": {
            "tags": []
          },
          "execution_count": 14
        }
      ]
    },
    {
      "cell_type": "code",
      "metadata": {
        "id": "buq4-7IIjsUq"
      },
      "source": [
        "%%aicrowd_include\n",
        "\n",
        "# This magical command saves all code in this cell to a utils module.\n",
        "class InsuranceModel(object):\n",
        "    def __init__(self):\n",
        "        self.encoders = dict()\n",
        "        self.freq_target = 'claim_flag'\n",
        "        self.sev_target = 'claim_amount'\n",
        "\n",
        "        self.categoricals = ['drv_sex1','drv_sex2','vh_fuel','vh_type','pol_usage','drv_drv2','pol_coverage','pol_pay_freq','pol_payd','vh_make_model']\n",
        "\n",
        "        self.features = [\n",
        "            # 'year',\n",
        "\n",
        "            'pol_no_claims_discount',\n",
        "            'pol_coverage',\n",
        "            # 'pol_duration',\n",
        "            # 'pol_sit_duration',\n",
        "\n",
        "            'pol_pay_freq',\n",
        "            'pol_payd',\n",
        "            'pol_usage',\n",
        "\n",
        "            # 'drv_sex1',\n",
        "            'drv_age1',\n",
        "            # 'drv_age_lic1',\n",
        "\n",
        "            # 'drv_drv2',\n",
        "            # 'drv_sex2',\n",
        "            'drv_age2',\n",
        "            # 'drv_age_lic2',\n",
        "\n",
        "            'vh_age',\n",
        "            'vh_fuel',\n",
        "            'vh_type',\n",
        "            'vh_speed',\n",
        "            'vh_value',\n",
        "            'vh_weight',\n",
        "\n",
        "            # 'town_type',\n",
        "            # 'people_per_area',\n",
        "            'driving_time_ratio',\n",
        "            # 'pol_duration_by_yoa',\n",
        "            # 'pol_sit_duration_by_yoa',\n",
        "\n",
        "            # 'vh_weight_per_speed',\n",
        "            # 'vh_val_drv_age_ratio',\n",
        "            # 'vh_val_drv_lic_age_ratio',\n",
        "            # 'vh_val_vh_speed_ratio',\n",
        "\n",
        "            'vh_val_pop_ratio',\n",
        "            'vh_speed_area_ratio',\n",
        "\n",
        "            # 'vh_speed_drv_age_ratio',\n",
        "            # 'vh_speed_drv_lic_age_ratio',\n",
        "\n",
        "            # 'pol_duration_by_drv_age_ratio',\n",
        "            # 'pol_sit_duration_by_drv_age_ratio',\n",
        "\n",
        "            'pol_duration_by_vh_value',\n",
        "            'pol_sit_duration_by_vh_value',\n",
        "            # 'pol_duration_by_vh_age',\n",
        "            # 'pol_sit_duration_by_vh_age',\n",
        "            # 'pol_duration_by_vh_speed',\n",
        "            # 'pol_sit_duration_by_vh_speed',\n",
        "            # 'vh_make_model',\n",
        "            # 'id_policy'\n",
        "            ]\n",
        "\n",
        "\n",
        "    def pre_process(self,dataframe, categoricals=None):\n",
        "        \n",
        "        d = dataframe.drop(['id_policy'],axis=1).copy()\n",
        "        # d = d.replace([np.inf, -np.inf], np.nan).copy()\n",
        "        # vh make model new values handle\n",
        "        # d.loc[ d['vh_make_model'] != 'rthsjeyjgdlmkygk\u0004','vh_make_model'] = 'other'\n",
        "\n",
        "        for categ in self.categoricals:\n",
        "            if categ in self.encoders.keys():\n",
        "                d[categ] = d[categ].apply(lambda x: self.encoders[categ].get(x, np.nan))\n",
        "            else:\n",
        "                le = LabelEncoder()\n",
        "                le.fit(d[categ])\n",
        "                self.encoders[categ] = dict(zip(le.classes_, le.transform(le.classes_)))\n",
        "                d[categ] = d[categ].apply(lambda x: self.encoders[categ].get(x, np.nan))\n",
        "    \n",
        "\n",
        "        d['offset'] = np.log(d['pol_duration'])\n",
        "\n",
        "        d['people_per_area'] = d['population'] / d['town_surface_area']\n",
        "        d['driving_time_ratio'] = d['drv_age_lic1'] / d['drv_age1']\n",
        "\n",
        "        d['pol_duration_by_drv_age_ratio'] = d['pol_duration'] / d['drv_age1']\n",
        "        d['pol_sit_duration_by_drv_age_ratio'] = d['pol_sit_duration'] / d['drv_age1']\n",
        "\n",
        "        d['pol_duration_by_yoa'] = d['pol_duration'] / d['year']\n",
        "        d['pol_sit_duration_by_yoa'] = d['pol_sit_duration'] / d['year']\n",
        "\n",
        "        d['pol_duration_by_vh_value'] = d['pol_duration'] / d['vh_value']\n",
        "        d['pol_sit_duration_by_vh_value'] = d['pol_sit_duration'] / d['vh_value']\n",
        "\n",
        "        d['pol_duration_by_vh_age'] = d['pol_duration'] / d['vh_age']\n",
        "        d['pol_sit_duration_by_vh_age'] = d['pol_sit_duration'] / d['vh_age']\n",
        "\n",
        "        d['pol_duration_by_vh_speed'] = d['pol_duration'] / d['vh_speed']\n",
        "        d['pol_sit_duration_by_vh_speed'] = d['pol_sit_duration'] / d['vh_speed']\n",
        "\n",
        "        d['vh_val_drv_age_ratio'] = d['vh_value'] / d['drv_age1']\n",
        "        d['vh_val_drv_lic_age_ratio'] = d['vh_value'] / d['drv_age_lic1']\n",
        "        d['vh_val_vh_speed_ratio'] = d['vh_value'] / d['vh_speed']\n",
        "\n",
        "        d['vh_val_pop_ratio'] = d['vh_value'] / d['population']\n",
        "\n",
        "        d['vh_speed_area_ratio'] = d['vh_speed'] / d['town_surface_area']\n",
        "\n",
        "        d['vh_speed_drv_age_ratio'] = d['vh_speed'] / d['drv_age1']\n",
        "        d['vh_speed_drv_lic_age_ratio'] = d['vh_speed'] / d['drv_age_lic1']\n",
        "\n",
        "        d['vh_weight_per_speed'] = d['vh_weight'] / d['vh_speed']\n",
        "\n",
        "        return d\n",
        "        \n",
        "\n",
        "    def fit(self, X_raw, y_raw):\n",
        "\n",
        "        cdf = X_raw.copy()\n",
        "        cdf['claim_amount'] = y_raw\n",
        "        \n",
        "        cdf = self.pre_process(cdf)\n",
        "   \n",
        "        self.param_grid = { \n",
        "            'objective': 'reg:tweedie',\n",
        "            # 'booster':'dart',\n",
        "            'max_depth': 1,\n",
        "            'eval_metric': 'rmse',\n",
        "            'n_estimators': 75,\n",
        "            'tweedie_variance_power': 1.63\n",
        "        }\n",
        "\n",
        "        self.model = xgb.XGBRegressor(**self.param_grid)\n",
        "\n",
        "        cdf = cdf.loc[cdf['year'] > 2]\n",
        "        \n",
        "        self.model.fit(cdf[self.features],cdf[self.sev_target],eval_metric='rmse')\n",
        "\n",
        "    \n",
        "    # method used to predict claims amounts\n",
        "    def predict_claims(self, X_raw):\n",
        "        X_raw = self.pre_process(X_raw)\n",
        "\n",
        "        return self.model.predict(X_raw[self.features]) \n"
      ],
      "execution_count": null,
      "outputs": []
    },
    {
      "cell_type": "code",
      "metadata": {
        "id": "CtL2L7SgFg0c"
      },
      "source": [
        "import importlib\n",
        "import utils\n",
        "importlib.reload(utils)\n",
        "from utils import *  # do not change this"
      ],
      "execution_count": null,
      "outputs": []
    },
    {
      "cell_type": "markdown",
      "metadata": {
        "id": "NAaNQuVxRTUs"
      },
      "source": [
        "## Define the training logic"
      ]
    },
    {
      "cell_type": "code",
      "metadata": {
        "id": "ffOanSIvd9Yh"
      },
      "source": [
        "def fit_model(X_raw, y_raw):\n",
        "    \"\"\"Model training function: given training data (X_raw, y_raw), train this pricing model.\n",
        "\n",
        "    Parameters\n",
        "    ----------\n",
        "    X_raw : Pandas dataframe, with the columns described in the data dictionary.\n",
        "        Each row is a different contract. This data has not been processed.\n",
        "    y_raw : a Numpy array, with the value of the claims, in the same order as contracts in X_raw.\n",
        "        A one dimensional array, with values either 0 (most entries) or >0.\n",
        "\n",
        "    Returns\n",
        "    -------\n",
        "    self: this instance of the fitted model. This can be anything, as long as it is compatible\n",
        "        with your prediction methods.\n",
        "\n",
        "    \"\"\"\n",
        "    model = InsuranceModel()\n",
        "    model.fit(X_raw,y_raw)\n",
        "    return model"
      ],
      "execution_count": null,
      "outputs": []
    },
    {
      "cell_type": "markdown",
      "metadata": {
        "id": "CfjGFHcXd9Yh"
      },
      "source": [
        "## Train your model"
      ]
    },
    {
      "cell_type": "code",
      "metadata": {
        "id": "0wtCLn_Xd9Yi",
        "colab": {
          "base_uri": "https://localhost:8080/"
        },
        "outputId": "8b7515fe-da62-4747-ab85-3eedfc0731fc"
      },
      "source": [
        "%%time\n",
        "trained_model = fit_model(X_train, y_train)"
      ],
      "execution_count": null,
      "outputs": [
        {
          "output_type": "stream",
          "text": [
            "CPU times: user 7.54 s, sys: 85 ms, total: 7.62 s\n",
            "Wall time: 4.71 s\n"
          ],
          "name": "stdout"
        }
      ]
    },
    {
      "cell_type": "markdown",
      "metadata": {
        "id": "NjUk7tfjd9Yi"
      },
      "source": [
        "**Important note**: your training code should be able to run in under 10 minutes (since this notebook is re-run entirely on the server side). \n",
        "\n",
        "If you run into an issue here we recommend using the *zip file submission* (see the [challenge page](https://www.aicrowd.com/challenges/insurance-pricing-game/#how-to%20submit)). In short, you can simply do this by copy-pasting your `fit_model`, `predict_expected_claim` and `predict_premium` functions to the `model.py` file.\n",
        "\n",
        "Note that if you want to perform extensive cross-validation/hyper-parameter selection, it is better to do them offline, in a separate notebook."
      ]
    },
    {
      "cell_type": "markdown",
      "metadata": {
        "id": "LWYcr_Ued9Yi"
      },
      "source": [
        "## Saving your model\n",
        "\n",
        "You can save your model to a file here, so you don't need to retrain it every time."
      ]
    },
    {
      "cell_type": "code",
      "metadata": {
        "id": "O6iWwkmHd9Yi"
      },
      "source": [
        "def save_model(model_path):  # some models such xgboost models or keras models don't pickle very reliably. Please use the package provided saving functions instead. \n",
        "  with open(model_path, 'wb') as target_file:\n",
        "      pickle.dump(trained_model, target_file)"
      ],
      "execution_count": null,
      "outputs": []
    },
    {
      "cell_type": "code",
      "metadata": {
        "id": "zwEEP95EMow4"
      },
      "source": [
        "save_model(Config.MODEL_OUTPUT_PATH)"
      ],
      "execution_count": null,
      "outputs": []
    },
    {
      "cell_type": "markdown",
      "metadata": {
        "id": "9G3KPnlsd9Yi"
      },
      "source": [
        "If you need to load it from file, you can use this code:"
      ]
    },
    {
      "cell_type": "code",
      "metadata": {
        "id": "ICY88PT5d9Yi"
      },
      "source": [
        "def load_model(model_path): # some models such xgboost models or keras models don't pickle very reliably. Please use the package provided saving functions instead. \n",
        "  with open(model_path, 'rb') as target:\n",
        "      return pickle.load(target)"
      ],
      "execution_count": null,
      "outputs": []
    },
    {
      "cell_type": "code",
      "metadata": {
        "id": "dxTX1TYOMsWK"
      },
      "source": [
        "trained_model = load_model(Config.MODEL_OUTPUT_PATH)"
      ],
      "execution_count": null,
      "outputs": []
    },
    {
      "cell_type": "markdown",
      "metadata": {
        "id": "tVeJiR1Ud9Yi"
      },
      "source": [
        "# Predicting the claims 💵\n",
        "\n",
        "The second function, `predict_expected_claim`, takes your trained model and a dataframe of contracts, and outputs a prediction for the (expected) claim incurred by each contract. This expected claim can be seen as the probability of an accident multiplied by the cost of that accident.\n",
        "\n",
        "This is the function used to compute the _RMSE_ leaderboard, where the model best able to predict claims wins."
      ]
    },
    {
      "cell_type": "code",
      "metadata": {
        "id": "rgM1xNf0d9Yi"
      },
      "source": [
        "def predict_expected_claim(model, X_raw):\n",
        "    \"\"\"Model prediction function: predicts the expected claim based on the pricing model.\n",
        "\n",
        "    This functions estimates the expected claim made by a contract (typically, as the product\n",
        "    of the probability of having a claim multiplied by the expected cost of a claim if it occurs),\n",
        "    for each contract in the dataset X_raw.\n",
        "\n",
        "    This is the function used in the RMSE leaderboard, and hence the output should be as close\n",
        "    as possible to the expected cost of a contract.\n",
        "\n",
        "    Parameters\n",
        "    ----------\n",
        "    model: a Python object that describes your model. This can be anything, as long\n",
        "        as it is consistent with what `fit` outpurs.\n",
        "    X_raw : Pandas dataframe, with the columns described in the data dictionary.\n",
        "        Each row is a different contract. This data has not been processed.\n",
        "\n",
        "    Returns\n",
        "    -------\n",
        "    avg_claims: a one-dimensional Numpy array of the same length as X_raw, with one\n",
        "        expected claim per contract (in same order). These expected claims must be POSITIVE (>0).\n",
        "    \"\"\"\n",
        "\n",
        "    # TODO: estimate the expected claim of every contract.\n",
        "    # Don't forget any preprocessing of the raw data here\n",
        "    \n",
        "    return model.predict_claims(X_raw) # Estimate that each contract will cost 114 (this is the naive mean model). You should change this!"
      ],
      "execution_count": null,
      "outputs": []
    },
    {
      "cell_type": "markdown",
      "metadata": {
        "id": "FN7RqHcld9Yi"
      },
      "source": [
        "To test your function, run it on your training data:"
      ]
    },
    {
      "cell_type": "code",
      "metadata": {
        "id": "P7Pu1UE-d9Yi"
      },
      "source": [
        "claims = predict_expected_claim(trained_model, X_train)"
      ],
      "execution_count": null,
      "outputs": []
    },
    {
      "cell_type": "markdown",
      "metadata": {
        "id": "2LuitAiQd9Yi"
      },
      "source": [
        "# Pricing contracts 💰💰\n",
        "\n",
        "The third and final function, `predict_premium`, takes your trained model and a dataframe of contracts, and outputs a _price_ for each of these contracts. **You are free to set this prices however you want!** These prices will then be used in competition with other models: contracts will choose the model offering the lowest price, and this model will have to pay the cost if an accident occurs.\n",
        "\n",
        "This is the function used to compute the _profit_ leaderboard: your model will participate in many markets of size 10, populated by other participants' model, and we compute the average profit of your model over all the markets it participated in."
      ]
    },
    {
      "cell_type": "code",
      "metadata": {
        "id": "agmv13hnd9Yi"
      },
      "source": [
        "def predict_premium(model, X_raw):\n",
        "    \"\"\"Model prediction function: predicts premiums based on the pricing model.\n",
        "\n",
        "    This function outputs the prices that will be offered to the contracts in X_raw.\n",
        "    premium will typically depend on the average claim predicted in \n",
        "    predict_average_claim, and will add some pricing strategy on top.\n",
        "\n",
        "    This is the function used in the average profit leaderboard. Prices output here will\n",
        "    be used in competition with other models, so feel free to use a pricing strategy.\n",
        "\n",
        "    Parameters\n",
        "    ----------\n",
        "    model: a Python object that describes your model. This can be anything, as long\n",
        "        as it is consistent with what `fit` outpurs.\n",
        "    X_raw : Pandas dataframe, with the columns described in the data dictionary.\n",
        "        Each row is a different contract. This data has not been processed.\n",
        "\n",
        "    Returns\n",
        "    -------\n",
        "    prices: a one-dimensional Numpy array of the same length as X_raw, with one\n",
        "        price per contract (in same order). These prices must be POSITIVE (>0).\n",
        "    \"\"\"\n",
        "\n",
        "    # TODO: return a price for everyone.\n",
        "    # Don't forget any preprocessing of the raw data here\n",
        "\n",
        "    return model.predict_claims(X_raw) * 2.25  # Default: bosst prices by a factor of 2"
      ],
      "execution_count": null,
      "outputs": []
    },
    {
      "cell_type": "markdown",
      "metadata": {
        "id": "tu7T3lQ_d9Yi"
      },
      "source": [
        "To test your function, run it on your training data."
      ]
    },
    {
      "cell_type": "code",
      "metadata": {
        "id": "P2Ej-1zcd9Yi"
      },
      "source": [
        "prices = predict_premium(trained_model, X_train)"
      ],
      "execution_count": null,
      "outputs": []
    },
    {
      "cell_type": "markdown",
      "metadata": {
        "id": "vcU5hWPHd9Yi"
      },
      "source": [
        "# Profit on training data\n",
        "\n",
        "In order for your model to be considered in the profit competition, it needs to make nonnegative profit over its training set. You can check that your model satisfies this condition below:"
      ]
    },
    {
      "cell_type": "code",
      "metadata": {
        "colab": {
          "base_uri": "https://localhost:8080/",
          "height": 454
        },
        "id": "hf389fhYd9Yi",
        "outputId": "ae8ca816-2e73-4264-a6cc-412a8d218218"
      },
      "source": [
        "print('Pred Premium: ${:0,.0f}'.format(prices.sum()))\n",
        "print('Pred Losses: ${:0,.0f}'.format(claims.sum()))\n",
        "print('Losses: ${:0,.0f}'.format(y_train.sum()))\n",
        "print('RMSE: {:0,.2f}'.format(metrics.mean_squared_error(y_train,claims,squared=False,)))\n",
        "\n",
        "if prices.sum() < y_train.sum():\n",
        "    print('Your model loses money on the training data! It does not satisfy market rule 1: Non-negative training profit.')\n",
        "    print('This model will be disqualified from the weekly profit leaderboard, but can be submitted for educational purposes to the RMSE leaderboard.')\n",
        "else:\n",
        "    print('Your model passes the non-negative training profit test!')\n",
        "\n",
        "fig,ax = plt.subplots(1,3,figsize=(25,5))\n",
        "\n",
        "ax.ravel()[0].hist(claims,label='pred_sev',alpha=.5);\n",
        "ax.ravel()[0].hist(y_train,label='actual_sev',alpha=.5);\n",
        "ax.ravel()[0].legend();\n",
        "ax.ravel()[0].set_xlim([0,2e4]);\n",
        "ax.ravel()[0].set_ylabel('Frequency')\n",
        "ax.ravel()[0].set_xlabel('Severity');\n",
        "\n",
        "\n",
        "sns.scatterplot(x=y_train,y=claims,hue=y_train > 0,ax=ax.ravel()[1],alpha=.5);\n",
        "ax.ravel()[1].set_ylabel('Predicted Claims')\n",
        "ax.ravel()[1].set_xlabel('Actual Claims');\n",
        "\n",
        "xgb.plot_importance(trained_model.model,ax=ax.ravel()[2])\n",
        "\n",
        "plt.tight_layout()"
      ],
      "execution_count": null,
      "outputs": [
        {
          "output_type": "stream",
          "text": [
            "Pred Premium: $57,793,224\n",
            "Pred Losses: $25,685,880\n",
            "Losses: $25,809,735\n",
            "RMSE: 577.91\n",
            "Your model passes the non-negative training profit test!\n"
          ],
          "name": "stdout"
        },
        {
          "output_type": "display_data",
          "data": {
            "image/png": "[encoded data removed]",
            "text/plain": [
              "<Figure size 1800x360 with 3 Axes>"
            ]
          },
          "metadata": {
            "tags": []
          }
        }
      ]
    },
    {
      "cell_type": "markdown",
      "metadata": {
        "id": "AQlsVqDqd9Yi"
      },
      "source": [
        "# Ready? Submit to AIcrowd 🚀\n",
        "\n",
        "If you are satisfied with your code, run the code below to send your code to the AICrowd servers for evaluation! This requires the variable `trained_model` to be defined by your previous code.\n",
        "\n",
        "**Make sure you have included all packages needed to run your code in the [_\"Packages\"_](#packages) section.**\n",
        "\n",
        "**NOTE**: If you submit the baseline RMSE model without any change whatsoever, your model will not be entered into the market. "
      ]
    },
    {
      "cell_type": "code",
      "metadata": {
        "colab": {
          "base_uri": "https://localhost:8080/"
        },
        "id": "ovm0PyTEd9Yi",
        "outputId": "d70c3a41-5dcc-4b5d-fae1-105e513e6946"
      },
      "source": [
        "# %aicrowd_submit"
      ],
      "execution_count": null,
      "outputs": [
        {
          "output_type": "stream",
          "text": [
            "🚀 Preparing to submit...\n",
            "⚙️ Collecting the submission code...\n",
            "💾 Preparing the submission zip file...\n",
            "adding: utils.py (deflated 74%)\n",
            "adding: config.json (deflated 8%)\n",
            "adding: load_model.py (deflated 35%)\n",
            "adding: save_model.py (deflated 37%)\n",
            "adding: fit_model.py (deflated 48%)\n",
            "adding: predict_premium.py (deflated 52%)\n",
            "adding: global_imports.py (deflated 50%)\n",
            "adding: requirements.txt (stored 0%)\n",
            "adding: predict_expected_claim.py (deflated 52%)\n",
            "adding: model.pkl (deflated 69%)\n",
            "adding: predict.py (deflated 52%)\n",
            "API Key valid\n",
            "Saved API Key successfully!\n",
            "submission.zip ━━━━━━━━━━━━━━━━━━━━━ 100.0% • 39.6/38.0 KB • 19.6 MB/s • 0:00:00                                          ╭─────────────────────────╮\n",
            "│ Successfully submitted! │\n",
            "╰─────────────────────────╯\n",
            "Important links\n",
            "┌──────────────────┬───────────────────────────────────────────────────────────────────────────────────────────┐\n",
            "│  This submission │ https://www.aicrowd.com/challenges/insurance-pricing-game/submissions/124939              │\n",
            "│                  │                                                                                           │\n",
            "│  All submissions │ https://www.aicrowd.com/challenges/insurance-pricing-game/submissions?my_submissions=true │\n",
            "│                  │                                                                                           │\n",
            "│      Leaderboard │ https://www.aicrowd.com/challenges/insurance-pricing-game/leaderboards                    │\n",
            "│                  │                                                                                           │\n",
            "│ Discussion forum │ https://discourse.aicrowd.com/c/insurance-pricing-game                                    │\n",
            "│                  │                                                                                           │\n",
            "│   Challenge page │ https://www.aicrowd.com/challenges/insurance-pricing-game                                 │\n",
            "└──────────────────┴───────────────────────────────────────────────────────────────────────────────────────────┘\n",
            "{'submission_id': 124939, 'created_at': '2021-03-05T15:31:16.484Z'}\n"
          ],
          "name": "stdout"
        }
      ]
    },
    {
      "cell_type": "code",
      "metadata": {
        "id": "XOX7M67HZEXm"
      },
      "source": [
        ""
      ],
      "execution_count": null,
      "outputs": []
    }
  ]
}