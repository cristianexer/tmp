{
  "nbformat": 4,
  "nbformat_minor": 0,
  "metadata": {
    "colab": {
      "name": "2021-02-23-Probability-Distributions.ipynb",
      "provenance": [],
      "collapsed_sections": [],
      "mount_file_id": "1Li5eBZpmWATNanexEQ747iLfWYiA_K-H",
      "authorship_tag": "ABX9TyMPlgDRvreHa61srP3RMaq+",
      "include_colab_link": true
    },
    "kernelspec": {
      "name": "python3",
      "display_name": "Python 3"
    }
  },
  "cells": [
    {
      "cell_type": "markdown",
      "metadata": {
        "id": "view-in-github",
        "colab_type": "text"
      },
      "source": [
        "<a href=\"https://colab.research.google.com/github/cristianexer/tmp/blob/main/2021_02_23_Probability_Distributions.ipynb\" target=\"_parent\"><img src=\"https://colab.research.google.com/assets/colab-badge.svg\" alt=\"Open In Colab\"/></a>"
      ]
    },
    {
      "cell_type": "markdown",
      "metadata": {
        "id": "lOn7c8XZOraI"
      },
      "source": [
        "# Probability Distributions"
      ]
    },
    {
      "cell_type": "markdown",
      "metadata": {
        "id": "qiX95W99O3YF"
      },
      "source": [
        "![](https://miro.medium.com/max/962/1*DmPUIjvecL7KllOamoFSDw.png)\n"
      ]
    },
    {
      "cell_type": "markdown",
      "metadata": {
        "id": "Kx5KM9XZPgW3"
      },
      "source": [
        "## Project"
      ]
    },
    {
      "cell_type": "markdown",
      "metadata": {
        "id": "qCg6DHWPPjdC"
      },
      "source": [
        "**Aim:** Get familiar with probability distibutions and how they work\n",
        "\n",
        "**Objectives:**\n",
        "- Get Familiar with common probability distributions\n",
        "    - Bernoulli Distribution\n",
        "    - Uniform Distribution\n",
        "    - Binomial Distribution\n",
        "    - Normal Distribution\n",
        "    - Gamma Distribution\n",
        "    - Poisson Distribution\n",
        "    - Exponential Distribution\n",
        "    - Tweedie Distribution\n",
        "- Highlight the main differences between Tweedie Distribution based model and the traditinal Frequency-Severity models"
      ]
    },
    {
      "cell_type": "markdown",
      "metadata": {
        "id": "MJRZINqzPdme"
      },
      "source": [
        "**Imports**"
      ]
    },
    {
      "cell_type": "code",
      "metadata": {
        "id": "2Gn2C6bMOm0a"
      },
      "source": [
        "import pandas as pd\n",
        "import numpy as np\n",
        "import scipy.stats as ss\n",
        "\n",
        "import matplotlib.pyplot as plt\n",
        "import seaborn as sns\n",
        "sns.set_style('whitegrid')"
      ],
      "execution_count": null,
      "outputs": []
    },
    {
      "cell_type": "markdown",
      "metadata": {
        "id": "ODfzb4eeQs_x"
      },
      "source": [
        "## Distributions"
      ]
    },
    {
      "cell_type": "markdown",
      "metadata": {
        "id": "WQO2T_ZFSgTZ"
      },
      "source": [
        "\n",
        "\n",
        "A probability distribution is a list of all of the possible outcomes of a random variable along with their corresponding probability values"
      ]
    },
    {
      "cell_type": "markdown",
      "metadata": {
        "id": "eh09OwN_QxTH"
      },
      "source": [
        "### Bernoulli Distribution\n",
        "\n"
      ]
    },
    {
      "cell_type": "markdown",
      "metadata": {
        "id": "GGFqJU8jV_VB"
      },
      "source": [
        "\n",
        "$f(k;p) =pk + (1-p)(1-k)$\n",
        "- $p$ = probability\n",
        "- $k$ = possible outcomes\n",
        "- $f$ = probability mass function\n",
        "\n",
        "A Bernoulli event is one for which the probability the event occurs is p and the probability the event does not occur is $1-p$; i.e., the event is has two possible outcomes (usually viewed as success or failure) occurring with probability $p$ and $1-p$, respectively. A Bernoulli trial is an instantiation of a Bernoulli event. So long as the probability of success or failure remains the same from trial to trial (i.e., each trial is independent of the others), a sequence of Bernoulli trials is called a Bernoulli process. Among other conclusions that could be reached, this means that for n trials, the probability of n successes is $p^n$.\n",
        "\n",
        "**A Bernoulli distribution is the pair of probabilities of a Bernoulli event**\n",
        "\n"
      ]
    },
    {
      "cell_type": "code",
      "metadata": {
        "colab": {
          "base_uri": "https://localhost:8080/",
          "height": 54
        },
        "id": "ndYbLYvaq9fv",
        "outputId": "73baeb3a-150a-4ea4-a0ef-c68922719686"
      },
      "source": [
        "# draw samples from bernoulli distribution where probability is 0.5\n",
        "random_bernoulli = ss.bernoulli(p=0.5).rvs(size=10)\n",
        "plt.hist(random_bernoulli);\n",
        "plt.xlabel('Value')\n",
        "plt.ylabel('Frequency');"
      ],
      "execution_count": null,
      "outputs": [
        {
          "output_type": "display_data",
          "data": {
            "image/png": "[encoded data removed]",
            "text/plain": [
              "<Figure size 432x288 with 1 Axes>"
            ]
          },
          "metadata": {
            "tags": []
          }
        }
      ]
    },
    {
      "cell_type": "markdown",
      "metadata": {
        "id": "EKm3oOGEZ20N"
      },
      "source": [
        "### Binomial Distribution"
      ]
    },
    {
      "cell_type": "markdown",
      "metadata": {
        "id": "yRycW6tsZ2wJ"
      },
      "source": [
        "\n",
        "$P(k;n) = \\frac{n!}{k!(n-k)!} p^k(1-p)^{(n-k)}$\n",
        "\n",
        "The binomial distribution is a probability distribution that summarizes the likelihood that a value will take one of two independent values under a given set of parameters or assumptions. The underlying assumptions of the binomial distribution are that there is only one outcome for each trial, that each trial has the same probability of success, and that each trial is mutually exclusive, or independent of each other."
      ]
    },
    {
      "cell_type": "code",
      "metadata": {
        "colab": {
          "base_uri": "https://localhost:8080/",
          "height": 54
        },
        "id": "lJGmbPG9xBJ5",
        "outputId": "a4389f84-3ae6-4530-832d-42022f7f6a21"
      },
      "source": [
        "# draw 10 samples of binomial distribution where shape is 1 and probability is 50%\n",
        "random_binomial = np.random.binomial(1,p=.5,size=10)\n",
        "plt.hist(random_binomial);\n",
        "plt.xlabel('Value')\n",
        "plt.ylabel('Frequency');"
      ],
      "execution_count": null,
      "outputs": [
        {
          "output_type": "display_data",
          "data": {
            "image/png": "[encoded data removed]",
            "text/plain": [
              "<Figure size 432x288 with 1 Axes>"
            ]
          },
          "metadata": {
            "tags": []
          }
        }
      ]
    },
    {
      "cell_type": "markdown",
      "metadata": {
        "id": "SkavhYBuxAxR"
      },
      "source": [
        "### What is the difference between Bernoulli Distribution and Binomial Distribution"
      ]
    },
    {
      "cell_type": "markdown",
      "metadata": {
        "id": "v7B9a7usx34v"
      },
      "source": [
        "The Bernoulli distribution represents the success or failure of a single Bernoulli trial. The Binomial Distribution represents the number of successes and failures in n independent Bernoulli trials for some given value of n. For example, if a manufactured item is defective with probability p, then the binomial distribution represents the number of successes and failures in a lot of n items. In particular, sampling from this distribution gives a count of the number of defective items in a sample lot."
      ]
    },
    {
      "cell_type": "markdown",
      "metadata": {
        "id": "C7vQXmHqZ2ge"
      },
      "source": [
        "### Poisson Distribution"
      ]
    },
    {
      "cell_type": "markdown",
      "metadata": {
        "id": "u0VCF2gcdBcl"
      },
      "source": [
        "Let's review **Probability Mass Function(PMF)**\n",
        "\n",
        "In probability and statistics, a probability mass function (PMF) is a function that gives the probability that a discrete random variable is exactly equal to some value. Sometimes it is also known as the discrete density function. \n",
        "\n",
        "A probability mass function differs from a probability density function (PDF) in that the latter is associated with continuous rather than discrete random variables. A PDF must be integrated over an interval to yield a probability."
      ]
    },
    {
      "cell_type": "markdown",
      "metadata": {
        "id": "pg9svqZoG2xB"
      },
      "source": [
        "The Poisson distribution describes the probability to find exactly x events in a given length of time if the events occur independently at a constant rate. \n",
        "\n",
        "\n",
        "\n",
        "\n",
        "In addition, the Poisson distribution can be obtained as an approximation of a binomial distribution when the number of trials $n$ of the latter distribution is large, success probability $p$ is small, and $np$ is a finite number.\n",
        "\n",
        "The PMF of the Poisson distribution is given by $P(X = x) = \\frac{e^{-λ}λ^x}{x!}, x=0,1,...\\infty$ where λ is a positive number. \n",
        "\n",
        "**Both the mean and variance of the Poisson distribution are equal to λ.**\n",
        "\n",
        "The maximum likelihood estimate of λ from a sample from the Poisson distribution is the sample mean."
      ]
    },
    {
      "cell_type": "code",
      "metadata": {
        "colab": {
          "base_uri": "https://localhost:8080/"
        },
        "id": "7OYFOoZxck88",
        "outputId": "241b1620-e0b0-480d-f8b4-bd4907213750"
      },
      "source": [
        "x = np.random.randint(5,100,size=100)\n",
        "x.mean()"
      ],
      "execution_count": null,
      "outputs": [
        {
          "output_type": "execute_result",
          "data": {
            "text/plain": [
              "57.03"
            ]
          },
          "metadata": {
            "tags": []
          },
          "execution_count": 28
        }
      ]
    },
    {
      "cell_type": "code",
      "metadata": {
        "colab": {
          "base_uri": "https://localhost:8080/"
        },
        "id": "acNNQJpseMPm",
        "outputId": "daab63fc-3730-4112-8e24-f81c1ca1a554"
      },
      "source": [
        "random_poisson = np.random.poisson(x,size=100)\n",
        "random_poisson.mean()"
      ],
      "execution_count": null,
      "outputs": [
        {
          "output_type": "execute_result",
          "data": {
            "text/plain": [
              "57.72"
            ]
          },
          "metadata": {
            "tags": []
          },
          "execution_count": 29
        }
      ]
    },
    {
      "cell_type": "code",
      "metadata": {
        "colab": {
          "base_uri": "https://localhost:8080/",
          "height": 54
        },
        "id": "qEDC93cBeDjH",
        "outputId": "3ebf6c34-1dc0-4cc9-b290-4bf94b62d48c"
      },
      "source": [
        "plt.hist(x,label='Original Population',alpha=.7);\n",
        "plt.hist(random_poisson,label='Random Samples with Poisson',alpha=.7);\n",
        "plt.xlabel('Value')\n",
        "plt.ylabel('Frequency');\n",
        "plt.legend(bbox_to_anchor=(1, -0.128),ncol=2);"
      ],
      "execution_count": null,
      "outputs": [
        {
          "output_type": "display_data",
          "data": {
            "image/png": "[encoded data removed]",
            "text/plain": [
              "<Figure size 432x288 with 1 Axes>"
            ]
          },
          "metadata": {
            "tags": []
          }
        }
      ]
    },
    {
      "cell_type": "markdown",
      "metadata": {
        "id": "kHh0d-tcZ27y"
      },
      "source": [
        "### Uniform Distribution"
      ]
    },
    {
      "cell_type": "markdown",
      "metadata": {
        "id": "XqHDb-vG4FVL"
      },
      "source": [
        "Before this let's review the ***Probability Density Function(PDF)***\n",
        "\n",
        "We capture the notion of being close to a number with a ***probability density function*** which is often denoted by $ρ(x)$\n",
        "\n",
        "While the absolute likelihood for a continuous random variable to take on any particular value is 0 (since there is an infinite set of possible values to begin with), the value of the PDF at two different samples can be used to infer, in any particular draw of the random variable, how much more likely it is that the random variable would equal one sample compared to the other sample.\n",
        "\n"
      ]
    },
    {
      "cell_type": "markdown",
      "metadata": {
        "id": "aj3m_y2kZ24I"
      },
      "source": [
        "The probability density function is \n",
        "$p(x) = \\frac{1}{b - a}$\n",
        "\n",
        "![](https://upload.wikimedia.org/wikipedia/commons/thumb/9/96/Uniform_Distribution_PDF_SVG.svg/250px-Uniform_Distribution_PDF_SVG.svg.png)\n",
        "\n",
        "In statistics, a type of probability distribution in which all outcomes are equally likely. A deck of cards has within it uniform distributions because the likelihood of drawing a heart, a club, a diamond or a spade is equally likely. A coin also has a uniform distribution because the probability of getting either heads or tails in a coin toss is the same.\n",
        "\n",
        "This distribution is defined by two parameters, $a$ and $b$:\n",
        "\n",
        "- $a$ is the minimum.\n",
        "- $b$ is the maximum.\n",
        "\n"
      ]
    },
    {
      "cell_type": "code",
      "metadata": {
        "id": "8ge-yAlK0YCC"
      },
      "source": [
        "low = 5 # min - also known as loc in the context of uniform distribution\n",
        "high = 10 # max - also know as scale in the context of uniform distribution"
      ],
      "execution_count": null,
      "outputs": []
    },
    {
      "cell_type": "code",
      "metadata": {
        "colab": {
          "base_uri": "https://localhost:8080/",
          "height": 54
        },
        "id": "XZRXKzKt0niC",
        "outputId": "96011507-32c5-4fdd-88f5-6bc6403e7abd"
      },
      "source": [
        "# draw 10 samples from uniform distribution where low is 5 and high is 10\n",
        "random_uniform = np.random.uniform(low,high,size=10,)\n",
        "plt.hist(random_uniform);\n",
        "plt.xlabel('Value')\n",
        "plt.ylabel('Frequency');"
      ],
      "execution_count": null,
      "outputs": [
        {
          "output_type": "display_data",
          "data": {
            "image/png": "[encoded data removed]",
            "text/plain": [
              "<Figure size 432x288 with 1 Axes>"
            ]
          },
          "metadata": {
            "tags": []
          }
        }
      ]
    },
    {
      "cell_type": "markdown",
      "metadata": {
        "id": "imOCi41sVniq"
      },
      "source": [
        "### Normal Distribution"
      ]
    },
    {
      "cell_type": "markdown",
      "metadata": {
        "id": "c95i5L63Z2ry"
      },
      "source": [
        "$f(x)= {\\frac{1}{\\sigma\\sqrt{2\\pi}}}e^{- {\\frac {1}{2}} (\\frac {x-\\mu}{\\sigma})^2}$\n",
        "\n",
        "Normal distribution, also known as the Gaussian distribution, is a probability distribution that is symmetric about the mean, showing that data near the mean are more frequent in occurrence than data far from the mean. In graph form, normal distribution will appear as a bell curve.\n",
        "\n",
        "The normal distribution model is motivated by the Central Limit Theorem. This theory states that averages calculated from independent, identically distributed random variables have approximately normal distributions, regardless of the type of distribution from which the variables are sampled (provided it has finite variance). Normal distribution is sometimes confused with symmetrical distribution. \n",
        "\n",
        "The normal distribution has two parameters:\n",
        "- $mu$ - mean\n",
        "- $sigma$ - standard deviation"
      ]
    },
    {
      "cell_type": "code",
      "metadata": {
        "colab": {
          "base_uri": "https://localhost:8080/"
        },
        "id": "qz6Dhx2qAjv0",
        "outputId": "bad609cc-fc52-4db2-e774-b2cda901ef95"
      },
      "source": [
        "random_vals = np.random.randint(1,100,size=10)\n",
        "random_vals"
      ],
      "execution_count": null,
      "outputs": [
        {
          "output_type": "execute_result",
          "data": {
            "text/plain": [
              "array([56, 55, 35,  6, 25, 36, 58, 76, 96, 85])"
            ]
          },
          "metadata": {
            "tags": []
          },
          "execution_count": 33
        }
      ]
    },
    {
      "cell_type": "code",
      "metadata": {
        "id": "yhK0YoDV_Ftq"
      },
      "source": [
        "mu = random_vals.mean()\n",
        "sigma = random_vals.std()"
      ],
      "execution_count": null,
      "outputs": []
    },
    {
      "cell_type": "code",
      "metadata": {
        "colab": {
          "base_uri": "https://localhost:8080/",
          "height": 54
        },
        "id": "YpwjeQXo8UtO",
        "outputId": "5c70aa61-68f8-4335-d857-05d75bc6ea5f"
      },
      "source": [
        "random_normal = np.random.normal(mu,sigma,size=10)\n",
        "plt.hist(random_normal);\n",
        "plt.xlabel('Value')\n",
        "plt.ylabel('Frequency');"
      ],
      "execution_count": null,
      "outputs": [
        {
          "output_type": "display_data",
          "data": {
            "image/png": "[encoded data removed]",
            "text/plain": [
              "<Figure size 432x288 with 1 Axes>"
            ]
          },
          "metadata": {
            "tags": []
          }
        }
      ]
    },
    {
      "cell_type": "markdown",
      "metadata": {
        "id": "o0UC6qLr5g5E"
      },
      "source": [
        "### Gamma Distribution"
      ]
    },
    {
      "cell_type": "markdown",
      "metadata": {
        "id": "FRuOEg8O5g0C"
      },
      "source": [
        "where $G(a)$ is the Gamma function, and the parameters a and b are both positive, i.e. $a > 0$ and $b$ > 0$\n",
        "\n",
        "- $a$ (alpha) is known as the shape parameter, while $b$ (beta) is referred to as the scale parameter.\n",
        "- $b$ has the effect of stretching or compressing the range of the Gamma distribution. \n",
        "\n",
        "A Gamma distribution with $b = 1$ is known as the standard Gamma distribution.\n",
        "\n",
        "\n",
        "The Gamma distribution represents a family of shapes. As suggested by its name, a controls the shape of the family of distributions. The fundamental shapes are characterized by the following values of a:\n",
        "\n",
        "- **Case I (a < 1)**\n",
        "\n",
        "    - When a < 1, the Gamma distribution is exponentially shaped and [asymptotic](https://www.dictionary.com/browse/asymptotic) to both the vertical and horizontal axes.\n",
        "- **Case II (a = 1)**\n",
        "\n",
        "    - A Gamma distribution with shape parameter a = 1 and scale parameter b is the same as an exponential distribution of scale parameter (or mean) b.\n",
        "- **Case III (a > 1)**\n",
        "\n",
        "    - When a is greater than one, the Gamma distribution assumes a mounded (unimodal), but skewed shape. The skewness reduces as the value of a increases.\n",
        "\n",
        "\n",
        "The Gamma distribution is sometimes called the Erlang distribution, when its shape parameter a is an integer."
      ]
    },
    {
      "cell_type": "code",
      "metadata": {
        "colab": {
          "base_uri": "https://localhost:8080/"
        },
        "id": "6WK82KrHPKau",
        "outputId": "44fe6647-7519-4c5b-e696-35b0f90ec950"
      },
      "source": [
        "# random samples from gamma distribution\n",
        "x = np.random.gamma(500,size=100) \n",
        "m = x.mean()\n",
        "v = x.var()\n",
        "m,v"
      ],
      "execution_count": null,
      "outputs": [
        {
          "output_type": "execute_result",
          "data": {
            "text/plain": [
              "(497.73306638358423, 506.7061887509693)"
            ]
          },
          "metadata": {
            "tags": []
          },
          "execution_count": 36
        }
      ]
    },
    {
      "cell_type": "code",
      "metadata": {
        "id": "_j6bNfcrPa18"
      },
      "source": [
        "a = m**2/v # calculate alpha parameter - also known as shape\n",
        "b = m/v # calculate beta parameter - also known as scale"
      ],
      "execution_count": null,
      "outputs": []
    },
    {
      "cell_type": "code",
      "metadata": {
        "colab": {
          "base_uri": "https://localhost:8080/"
        },
        "id": "cIEryrz9QCk4",
        "outputId": "c1c16d24-af13-4b87-ff65-b340f226c9a7"
      },
      "source": [
        "# random samples using the calculated parameters\n",
        "random_gamma = np.random.gamma(a,1/b,size=100)\n",
        "random_gamma.mean()"
      ],
      "execution_count": null,
      "outputs": [
        {
          "output_type": "execute_result",
          "data": {
            "text/plain": [
              "497.19854925829094"
            ]
          },
          "metadata": {
            "tags": []
          },
          "execution_count": 38
        }
      ]
    },
    {
      "cell_type": "code",
      "metadata": {
        "colab": {
          "base_uri": "https://localhost:8080/",
          "height": 54
        },
        "id": "L8rXV2hXQxl9",
        "outputId": "d869dac6-4452-461f-c9bc-d9100f040e39"
      },
      "source": [
        "plt.hist(x,label='Original Population',alpha=.7);\n",
        "plt.hist(random_gamma,label='Random Samples with Gamma',alpha=.7);\n",
        "plt.xlabel('Value')\n",
        "plt.ylabel('Frequency');\n",
        "plt.legend(bbox_to_anchor=(1, -0.128),ncol=2);"
      ],
      "execution_count": null,
      "outputs": [
        {
          "output_type": "display_data",
          "data": {
            "image/png": "[encoded data removed]",
            "text/plain": [
              "<Figure size 432x288 with 1 Axes>"
            ]
          },
          "metadata": {
            "tags": []
          }
        }
      ]
    },
    {
      "cell_type": "markdown",
      "metadata": {
        "id": "fs0aHoHiVyuc"
      },
      "source": [
        "### Exponential Distribution"
      ]
    },
    {
      "cell_type": "markdown",
      "metadata": {
        "id": "UxxgkGsGVwZT"
      },
      "source": [
        "$ f(x; \\frac{1}{\\lambda}) = \\frac{1}{\\lambda} \\exp(-\\frac{x}{\\lambda})$\n",
        "\n",
        "\n",
        "The exponential distribution is a continuous probability distribution used to model the time we need to wait before a given event occurs. It is the continuous counterpart of the geometric distribution, which is instead discrete.\n",
        "\n",
        "\n",
        "Some Applications:\n",
        "- How much time will elapse before an earthquake occurs in a given region? \n",
        "- How long do we need to wait until a customer enters our shop? \n",
        "- How long will it take before a call center receives the next phone call? \n",
        "- How long will a piece of machinery work without breaking down?\n"
      ]
    },
    {
      "cell_type": "code",
      "metadata": {
        "colab": {
          "base_uri": "https://localhost:8080/"
        },
        "id": "ewWxjl1yp-cF",
        "outputId": "3d26bc29-b978-4c6b-b0a9-19340fb6dc31"
      },
      "source": [
        "x = np.random.exponential(size=100)\n",
        "x.mean()"
      ],
      "execution_count": null,
      "outputs": [
        {
          "output_type": "execute_result",
          "data": {
            "text/plain": [
              "0.9534300085400815"
            ]
          },
          "metadata": {
            "tags": []
          },
          "execution_count": 40
        }
      ]
    },
    {
      "cell_type": "code",
      "metadata": {
        "colab": {
          "base_uri": "https://localhost:8080/"
        },
        "id": "85hEdTp4qi15",
        "outputId": "4d9adb70-3d10-40fe-cd94-c5030712d8ca"
      },
      "source": [
        "random_exponential = np.random.exponential(x.mean(),size=100)\n",
        "random_exponential.mean()"
      ],
      "execution_count": null,
      "outputs": [
        {
          "output_type": "execute_result",
          "data": {
            "text/plain": [
              "0.8035637714108852"
            ]
          },
          "metadata": {
            "tags": []
          },
          "execution_count": 41
        }
      ]
    },
    {
      "cell_type": "code",
      "metadata": {
        "colab": {
          "base_uri": "https://localhost:8080/",
          "height": 54
        },
        "id": "VA0vEqvkqqgE",
        "outputId": "3507058e-3589-45d8-f3e2-6f9727c576b7"
      },
      "source": [
        "plt.hist(x,label='Original Population',alpha=.7);\n",
        "plt.hist(random_exponential,label='Random Samples with Exponential',alpha=.7);\n",
        "plt.xlabel('Value')\n",
        "plt.ylabel('Frequency');\n",
        "plt.legend(bbox_to_anchor=(1, -0.128),ncol=2);"
      ],
      "execution_count": null,
      "outputs": [
        {
          "output_type": "display_data",
          "data": {
            "image/png": "[encoded data removed]",
            "text/plain": [
              "<Figure size 432x288 with 1 Axes>"
            ]
          },
          "metadata": {
            "tags": []
          }
        }
      ]
    },
    {
      "cell_type": "markdown",
      "metadata": {
        "id": "_V9hDRSmrPV2"
      },
      "source": [
        "### What is the relationship between the Poisson Distribution and Exponential Distribution"
      ]
    },
    {
      "cell_type": "markdown",
      "metadata": {
        "id": "-BrZX_ANrQr0"
      },
      "source": [
        "A classical example of a random variable having a Poisson distribution is the number of phone calls received by a call center. If the time elapsed between two successive phone calls has an exponential distribution and it is independent of the time of arrival of the previous calls, then the total number of calls received in one hour has a Poisson distribution.\n",
        "\n",
        "![](https://www.statlect.com/images/poisson_distribution.png)"
      ]
    },
    {
      "cell_type": "markdown",
      "metadata": {
        "id": "8lJfytP-rpxh"
      },
      "source": [
        "The concept is illustrated by the plot above, where the number of phone calls received is plotted as a function of time. The graph of the function makes an upward jump each time a phone call arrives. The time elapsed between two successive phone calls is equal to the length of each horizontal segment and it has an exponential distribution. The number of calls received in 60 minutes is equal to the length of the segment highlighted by the vertical curly brace and it has a Poisson distribution.\n",
        "\n",
        "***The Poisson distribution deals with the number of occurrences in a fixed period of time, and the exponential distribution deals with the time between occurrences of successive events as time flows by continuously.***"
      ]
    },
    {
      "cell_type": "markdown",
      "metadata": {
        "id": "1jpjuHvVfJ5q"
      },
      "source": [
        "### Tweedie Distribution"
      ]
    },
    {
      "cell_type": "markdown",
      "metadata": {
        "id": "u-idudCkfKaB"
      },
      "source": [
        "The Tweedie distribution is a special case of an exponential distribution. \n",
        "\n",
        "The probability density function cannot be evaluated directly. Instead special algorithms must be created to calculate the density. \n",
        "\n",
        "This family of distributions has the following characteristics:\n",
        "-  a mean of $E(Y) = μ$\n",
        "- a variance of $Var(Y) = φ μp$.\n",
        "\n",
        "The $p$ in the variance function is an additional shape parameter for the distribution. $p$ is sometimes written in terms of the shape parameter $α: p = (α – 2) / (α -1)$\n",
        "\n",
        "Some familiar distributions are special cases of the Tweedie distribution:\n",
        "- $p = 0$ : Normal distribution\n",
        "- $p = 1$: Poisson distribution\n",
        "- $1 < p < 2$: Compound Poisson/gamma distribution\n",
        "- $p = 2$ gamma distribution\n",
        "- $2 < p$ < 3 Positive stable distributions\n",
        "- $p = 3$: Inverse Gaussian distribution / Wald distribution\n",
        "- $p > 3$: Positive stable distributions\n",
        "- $p = ∞$ Extreme stable distributions\n",
        "\n",
        "\n",
        "Some Applications:\n",
        "\n",
        "- modeling claims in the insurance industry\n",
        "- medical/genomic testing\n",
        "- anywhere else there is a mixture of zeros and non-negative data points. \n",
        "\n"
      ]
    },
    {
      "cell_type": "code",
      "metadata": {
        "id": "1GlzVNLfvR7T"
      },
      "source": [
        "try:\n",
        "    import tweedie as tw\n",
        "except ImportError:\n",
        "    !pip install tweedie\n",
        "    import tweedie as tw"
      ],
      "execution_count": null,
      "outputs": []
    },
    {
      "cell_type": "code",
      "metadata": {
        "id": "Mtvg1tLWu6s0"
      },
      "source": [
        "x = np.random.gamma(1e3,size=100) * np.random.binomial(1,p=.3,size=100)"
      ],
      "execution_count": null,
      "outputs": []
    },
    {
      "cell_type": "code",
      "metadata": {
        "colab": {
          "base_uri": "https://localhost:8080/",
          "height": 281
        },
        "id": "x-Lc7-d2wQL0",
        "outputId": "fde9c627-bbc2-4a03-c7b1-ad4a954753ae"
      },
      "source": [
        "plt.hist(x)\n",
        "plt.title('Original Population');"
      ],
      "execution_count": null,
      "outputs": [
        {
          "output_type": "display_data",
          "data": {
            "image/png": "[encoded data removed]",
            "text/plain": [
              "<Figure size 432x288 with 1 Axes>"
            ]
          },
          "metadata": {
            "tags": []
          }
        }
      ]
    },
    {
      "cell_type": "code",
      "metadata": {
        "colab": {
          "base_uri": "https://localhost:8080/"
        },
        "id": "0leD0vPQvmtz",
        "outputId": "8b640ae5-56a8-48d0-e74b-745d2da275f2"
      },
      "source": [
        "mu = x.mean()\n",
        "sigma = x.std()\n",
        "mu,sigma"
      ],
      "execution_count": null,
      "outputs": [
        {
          "output_type": "execute_result",
          "data": {
            "text/plain": [
              "(170.5586714756651, 377.0265213604315)"
            ]
          },
          "metadata": {
            "tags": []
          },
          "execution_count": 46
        }
      ]
    },
    {
      "cell_type": "code",
      "metadata": {
        "id": "npI4THbRvQer"
      },
      "source": [
        "random_tweedie_poisson = tw.tweedie(p=1.01,mu=mu,phi=sigma).rvs(100)\n",
        "random_tweedie_compound = tw.tweedie(p=1.2,mu=mu,phi=sigma).rvs(100)\n",
        "random_tweedie_gamma = tw.tweedie(p=1.79,mu=mu,phi=sigma).rvs(100)"
      ],
      "execution_count": null,
      "outputs": []
    },
    {
      "cell_type": "code",
      "metadata": {
        "colab": {
          "base_uri": "https://localhost:8080/"
        },
        "id": "4IcqBSgyyS9k",
        "outputId": "5a752c99-ba05-4b8b-9786-cd683a08e2c1"
      },
      "source": [
        "random_tweedie_poisson.mean()"
      ],
      "execution_count": null,
      "outputs": [
        {
          "output_type": "execute_result",
          "data": {
            "text/plain": [
              "190.23724143818134"
            ]
          },
          "metadata": {
            "tags": []
          },
          "execution_count": 55
        }
      ]
    },
    {
      "cell_type": "code",
      "metadata": {
        "colab": {
          "base_uri": "https://localhost:8080/"
        },
        "id": "X98nnHGZyUXK",
        "outputId": "2e02c3ec-911b-4a53-d5d0-c90a8bfe5762"
      },
      "source": [
        "random_tweedie_compound.mean()"
      ],
      "execution_count": null,
      "outputs": [
        {
          "output_type": "execute_result",
          "data": {
            "text/plain": [
              "187.05772479414344"
            ]
          },
          "metadata": {
            "tags": []
          },
          "execution_count": 56
        }
      ]
    },
    {
      "cell_type": "code",
      "metadata": {
        "colab": {
          "base_uri": "https://localhost:8080/"
        },
        "id": "T3Kc9bi30tmp",
        "outputId": "a87f0d7c-69bd-46c1-d868-634a03ea25bc"
      },
      "source": [
        "random_tweedie_gamma.mean()"
      ],
      "execution_count": null,
      "outputs": [
        {
          "output_type": "execute_result",
          "data": {
            "text/plain": [
              "76.04517167156773"
            ]
          },
          "metadata": {
            "tags": []
          },
          "execution_count": 57
        }
      ]
    },
    {
      "cell_type": "code",
      "metadata": {
        "colab": {
          "base_uri": "https://localhost:8080/",
          "height": 344
        },
        "id": "NwV53siLvCAz",
        "outputId": "5ad02a8a-5187-4d57-842f-e7754428a989"
      },
      "source": [
        "plt.hist(x,label='Original Population',alpha=.7);\n",
        "plt.hist(random_tweedie_poisson,label='Random Samples with Tweedie Poisson',alpha=.7);\n",
        "plt.hist(random_tweedie_compound,label='Random Samples with Tweedie Compund',alpha=.7);\n",
        "plt.hist(random_tweedie_gamma,label='Random Samples with Tweedie Gamma',alpha=.7);\n",
        "plt.xlabel('Value')\n",
        "plt.ylabel('Frequency');\n",
        "plt.legend(bbox_to_anchor=(1, -0.128),ncol=1);"
      ],
      "execution_count": null,
      "outputs": [
        {
          "output_type": "display_data",
          "data": {
            "image/png": "[encoded data removed]",
            "text/plain": [
              "<Figure size 432x288 with 1 Axes>"
            ]
          },
          "metadata": {
            "tags": []
          }
        }
      ]
    },
    {
      "cell_type": "markdown",
      "metadata": {
        "id": "narRz0DrhuAr"
      },
      "source": [
        "## Tweedie vs Frequency-Severity"
      ]
    },
    {
      "cell_type": "markdown",
      "metadata": {
        "id": "8lta_p2kW7RR"
      },
      "source": [
        "### Auto Claims Data"
      ]
    },
    {
      "cell_type": "markdown",
      "metadata": {
        "id": "mfdeU0ad19gv"
      },
      "source": [
        "\n",
        "\n",
        "\n",
        "\n",
        "![](https://images.propertycasualty360.com/contrib/content/uploads/sites/414/2018/05/Telemactics_Feature_Car.jpg)\n",
        "\n",
        "**[Dataset](https://www.kaggle.com/xiaomengsun/car-insurance-claim-data)**\n",
        "\n",
        "|VARIABLE NAME|DEFINITION                              |THEORETICAL EFFECT                                                                               |\n",
        "|-------------|----------------------------------------|-------------------------------------------------------------------------------------------------|\n",
        "|INDEX        |Identification Variable (do not use)    |None                                                                                             |\n",
        "|TARGET FLAG  |Was Car in a crash? 1=YES 0=NO          |None                                                                                             |\n",
        "|TARGET AMT   |If car was in a crash, what was the cost|None                                                                                             |\n",
        "|AGE          |Age of Driver                           |Very young people tend to be risky. Maybe very old people also.                                  |\n",
        "|BLUEBOOK     |Value of Vehicle                        |Unknown effect on probability of collision, but probably effect the payout if there is a crash   |\n",
        "|CAR AGE      |Vehicle Age                             |Unknown effect on probability of collision, but probably effect the payout if there is a crash   |\n",
        "|CAR TYPE     |Type of Car                             |Unknown effect on probability of collision, but probably effect the payout if there is a crash   |\n",
        "|CAR USE      |Vehicle Use                             |Commercial vehicles are driven more, so might increase probability of collision                  |\n",
        "|CLM FREQ     |# Claims (Past 5 Years)                 |The more claims you filed in the past, the more you are likely to file in the future             |\n",
        "|EDUCATION    |Max Education Level                     |Unknown effect, but in theory more educated people tend to drive more safely                     |\n",
        "|HOMEKIDS     |# Children at Home                      |Unknown effect                                                                                   |\n",
        "|HOME VAL     |Home Value                              |In theory, home owners tend to drive more responsibly                                            |\n",
        "|INCOME       |Income                                  |In theory, rich people tend to get into fewer crashes                                            |\n",
        "|JOB          |Job Category                            |In theory, white collar jobs tend to be safer                                                    |\n",
        "|KIDSDRIV     |# Driving Children                      |When teenagers drive your car, you are more likely to get into crashes                           |\n",
        "|MSTATUS      |Marital Status                          |In theory, married people drive more safely                                                      |\n",
        "|MVR PTS      |Motor Vehicle Record Points             |If you get lots of traffic tickets, you tend to get into more crashes                            |\n",
        "|OLDCLAIM     |Total Claims (Past 5 Years)             |If your total payout over the past five years was high, this suggests future payouts will be high|\n",
        "|PARENT1      |Single Parent                           |Unknown effect                                                                                   |\n",
        "|RED CAR      |A Red Car                               |Urban legend says that red cars (especially red sports cars) are more risky. Is that true?       |\n",
        "|REVOKED      |License Revoked (Past 7 Years)          |If your license was revoked in the past 7 years, you probably are a more risky driver.           |\n",
        "|SEX          |Gender                                  |Urban legend says that women have less crashes then men. Is that true?                           |\n",
        "|TIF          |Time in Force                           |People who have been customers for a long time are usually more safe.                            |\n",
        "|TRAVTIME     |Distance to Work                        |Long drives to work usually suggest greater risk                                                 |\n",
        "|URBANICITY   |Home/Work Area                          |Unknown                                                                                          |\n",
        "|YOJ          |Years on Job                            |People who stay at a job for a long time are usually more safe                                   |\n"
      ]
    },
    {
      "cell_type": "markdown",
      "metadata": {
        "id": "kc9vLhc419F1"
      },
      "source": [
        "**Load Data and Clean Data**"
      ]
    },
    {
      "cell_type": "code",
      "metadata": {
        "colab": {
          "base_uri": "https://localhost:8080/",
          "height": 142
        },
        "id": "_HCGMXI9h0JP",
        "outputId": "bfebeb7f-c295-4484-9d79-68e156dfa5e1"
      },
      "source": [
        "# Load Data\n",
        "df = pd.read_csv('/content/drive/MyDrive/Datasets/car_insurance_claim.csv')\n",
        "\n",
        "# make columns lowercase\n",
        "df.columns = df.columns.str.lower()\n",
        "\n",
        "# drop useless columns\n",
        "df = df.drop(['kidsdriv','parent1','revoked','mvr_pts','travtime','id','birth'],axis=1)\n",
        "\n",
        "# clean money amounts\n",
        "df[['home_val','bluebook','oldclaim','clm_amt','income']] = df[['home_val','bluebook','oldclaim','clm_amt','income']].apply(lambda x: x.str.replace('$','').str.replace(',','')).astype(float)\n",
        "\n",
        "# clean values from columns\n",
        "to_clean = ['education','occupation','mstatus','gender','car_type']\n",
        "for col in to_clean:\n",
        "    df[col] = df[col].str.replace('z_','').str.replace('<','')\n",
        "\n",
        "df['urbanicity'] = df['urbanicity'].str.split('/ ',expand=True)[1]\n",
        "\n",
        "to_clean = ['mstatus','red_car']\n",
        "for col in to_clean:\n",
        "    df[col] = df[col].str.lower().replace({ 'yes': True, 'no': False}).astype(int)\n",
        "    \n",
        "df = df.drop(['car_age','occupation','home_val','income','yoj'],axis=1).dropna()\n",
        "  \n",
        "df[:3]"
      ],
      "execution_count": null,
      "outputs": [
        {
          "output_type": "execute_result",
          "data": {
            "text/html": [
              "<div>\n",
              "<style scoped>\n",
              "    .dataframe tbody tr th:only-of-type {\n",
              "        vertical-align: middle;\n",
              "    }\n",
              "\n",
              "    .dataframe tbody tr th {\n",
              "        vertical-align: top;\n",
              "    }\n",
              "\n",
              "    .dataframe thead th {\n",
              "        text-align: right;\n",
              "    }\n",
              "</style>\n",
              "<table border=\"1\" class=\"dataframe\">\n",
              "  <thead>\n",
              "    <tr style=\"text-align: right;\">\n",
              "      <th></th>\n",
              "      <th>age</th>\n",
              "      <th>homekids</th>\n",
              "      <th>mstatus</th>\n",
              "      <th>gender</th>\n",
              "      <th>education</th>\n",
              "      <th>car_use</th>\n",
              "      <th>bluebook</th>\n",
              "      <th>tif</th>\n",
              "      <th>car_type</th>\n",
              "      <th>red_car</th>\n",
              "      <th>oldclaim</th>\n",
              "      <th>clm_freq</th>\n",
              "      <th>clm_amt</th>\n",
              "      <th>claim_flag</th>\n",
              "      <th>urbanicity</th>\n",
              "    </tr>\n",
              "  </thead>\n",
              "  <tbody>\n",
              "    <tr>\n",
              "      <th>0</th>\n",
              "      <td>60.0</td>\n",
              "      <td>0</td>\n",
              "      <td>0</td>\n",
              "      <td>M</td>\n",
              "      <td>PhD</td>\n",
              "      <td>Private</td>\n",
              "      <td>14230.0</td>\n",
              "      <td>11</td>\n",
              "      <td>Minivan</td>\n",
              "      <td>1</td>\n",
              "      <td>4461.0</td>\n",
              "      <td>2</td>\n",
              "      <td>0.0</td>\n",
              "      <td>0</td>\n",
              "      <td>Urban</td>\n",
              "    </tr>\n",
              "    <tr>\n",
              "      <th>1</th>\n",
              "      <td>43.0</td>\n",
              "      <td>0</td>\n",
              "      <td>0</td>\n",
              "      <td>M</td>\n",
              "      <td>High School</td>\n",
              "      <td>Commercial</td>\n",
              "      <td>14940.0</td>\n",
              "      <td>1</td>\n",
              "      <td>Minivan</td>\n",
              "      <td>1</td>\n",
              "      <td>0.0</td>\n",
              "      <td>0</td>\n",
              "      <td>0.0</td>\n",
              "      <td>0</td>\n",
              "      <td>Urban</td>\n",
              "    </tr>\n",
              "    <tr>\n",
              "      <th>2</th>\n",
              "      <td>48.0</td>\n",
              "      <td>0</td>\n",
              "      <td>0</td>\n",
              "      <td>M</td>\n",
              "      <td>Bachelors</td>\n",
              "      <td>Private</td>\n",
              "      <td>21970.0</td>\n",
              "      <td>1</td>\n",
              "      <td>Van</td>\n",
              "      <td>1</td>\n",
              "      <td>0.0</td>\n",
              "      <td>0</td>\n",
              "      <td>0.0</td>\n",
              "      <td>0</td>\n",
              "      <td>Urban</td>\n",
              "    </tr>\n",
              "  </tbody>\n",
              "</table>\n",
              "</div>"
            ],
            "text/plain": [
              "    age  homekids  mstatus gender  ... clm_freq clm_amt  claim_flag  urbanicity\n",
              "0  60.0         0        0      M  ...        2     0.0           0       Urban\n",
              "1  43.0         0        0      M  ...        0     0.0           0       Urban\n",
              "2  48.0         0        0      M  ...        0     0.0           0       Urban\n",
              "\n",
              "[3 rows x 15 columns]"
            ]
          },
          "metadata": {
            "tags": []
          },
          "execution_count": 59
        }
      ]
    },
    {
      "cell_type": "markdown",
      "metadata": {
        "id": "Qfl5G-GNP5s1"
      },
      "source": [
        "**Select Features and Targets**"
      ]
    },
    {
      "cell_type": "code",
      "metadata": {
        "id": "YpWn05q924oQ"
      },
      "source": [
        "features = ['age','gender','car_type','red_car','tif','education','car_use','bluebook','oldclaim','urbanicity']\n",
        "binary_target = 'claim_flag'\n",
        "severity_target = 'clm_amt'\n",
        "frequency_target = 'clm_freq'"
      ],
      "execution_count": null,
      "outputs": []
    },
    {
      "cell_type": "markdown",
      "metadata": {
        "id": "mR-FkTGsP8xi"
      },
      "source": [
        "**Modeling imports**"
      ]
    },
    {
      "cell_type": "code",
      "metadata": {
        "id": "39d6HYfM3oB3"
      },
      "source": [
        "import xgboost as xgb\n",
        "import patsy\n",
        "from sklearn.model_selection import train_test_split\n",
        "from sklearn import metrics"
      ],
      "execution_count": null,
      "outputs": []
    },
    {
      "cell_type": "code",
      "metadata": {
        "id": "rty3GEK29nt4"
      },
      "source": [
        "def clean_col_names(df):\n",
        "    df.columns = df.columns.str.replace('[T.','_',regex=False).str.replace(']','',regex=False).str.replace(' ','_',regex=False).str.lower()\n",
        "    return df"
      ],
      "execution_count": null,
      "outputs": []
    },
    {
      "cell_type": "markdown",
      "metadata": {
        "id": "fmYyjH8vQFLy"
      },
      "source": [
        "**Train test split data**"
      ]
    },
    {
      "cell_type": "code",
      "metadata": {
        "id": "vTUA0_8H38jy"
      },
      "source": [
        "# train test split data\n",
        "train, test = train_test_split(df,random_state=42, test_size=0.33,stratify=df[binary_target])\n",
        "# select only claims\n",
        "train_sev = train.loc[train[severity_target].gt(0)]\n",
        "# create design matrix\n",
        "pats = lambda data: patsy.dmatrix('+'.join(data.columns.tolist()),data,return_type='dataframe')\n",
        "\n",
        "# apply design matrix\n",
        "train_mx = pats(train[features])\n",
        "train_mx_sev = patsy.build_design_matrices([train_mx.design_info],train_sev,return_type='dataframe')[0]\n",
        "test_mx = patsy.build_design_matrices([train_mx.design_info],test,return_type='dataframe')[0]\n",
        "\n",
        "# clean columns\n",
        "train_mx = clean_col_names(train_mx)\n",
        "train_mx_sev = clean_col_names(train_mx_sev)\n",
        "test_mx = clean_col_names(test_mx)"
      ],
      "execution_count": null,
      "outputs": []
    },
    {
      "cell_type": "markdown",
      "metadata": {
        "id": "zWSFJtbY3V5O"
      },
      "source": [
        "### Frequency-Severity"
      ]
    },
    {
      "cell_type": "markdown",
      "metadata": {
        "id": "Fw8ea-9iQkDL"
      },
      "source": [
        "**Tree based XGBoost Models**"
      ]
    },
    {
      "cell_type": "code",
      "metadata": {
        "id": "_fM-n-9_3UrQ"
      },
      "source": [
        "# binomial model\n",
        "binary_model = xgb.XGBClassifier(objective='binary:logistic', eval_metric='auc', n_estimators=100, use_label_encoder=False).fit(train_mx, train[binary_target])\n",
        "# gamma model\n",
        "severity_model = xgb.XGBRegressor(objective='reg:gamma', eval_metric='gamma-nloglik', n_estimators=100).fit(train_mx_sev, train_sev[severity_target])\n",
        "# poisson model\n",
        "frequency_model = xgb.XGBRegressor(objective='count:poisson', eval_metric='poisson-nloglik', n_estimators=100).fit(train_mx_sev, train_sev[frequency_target])"
      ],
      "execution_count": null,
      "outputs": []
    },
    {
      "cell_type": "markdown",
      "metadata": {
        "id": "ktDZyGLTQqmO"
      },
      "source": [
        "**Calculate expected Claims**"
      ]
    },
    {
      "cell_type": "code",
      "metadata": {
        "id": "2LNdYupF_TlQ"
      },
      "source": [
        "expected_claims = (severity_model.predict(test_mx) * frequency_model.predict(test_mx)) * binary_model.predict_proba(test_mx)[:,1]"
      ],
      "execution_count": null,
      "outputs": []
    },
    {
      "cell_type": "markdown",
      "metadata": {
        "id": "-S2h3-wk3ZSA"
      },
      "source": [
        "### Tweedie"
      ]
    },
    {
      "cell_type": "code",
      "metadata": {
        "id": "chG8ixll3Uj2"
      },
      "source": [
        "var_power = 1.5\n",
        "tweedie_model = xgb.XGBRegressor(objective='reg:tweedie', eval_metric=f'tweedie-nloglik@{var_power}', n_estimators=100, tweedie_variance_power=var_power).fit(train_mx, train[severity_target])\n",
        "tweedie_preds = tweedie_model.predict(test_mx)"
      ],
      "execution_count": null,
      "outputs": []
    },
    {
      "cell_type": "markdown",
      "metadata": {
        "id": "ALYhut-u3exK"
      },
      "source": [
        "### Evaluation"
      ]
    },
    {
      "cell_type": "code",
      "metadata": {
        "colab": {
          "base_uri": "https://localhost:8080/",
          "height": 369
        },
        "id": "jMHH-RB9Dvn7",
        "outputId": "023b79ad-a3b5-412a-e661-bd98c775fd59"
      },
      "source": [
        "def lorenz_curve(y_true, y_pred, exposure):\n",
        "    y_true, y_pred = np.asarray(y_true), np.asarray(y_pred)\n",
        "    exposure = np.asarray(exposure)\n",
        "    # order samples by increasing predicted risk:\n",
        "    ranking = np.argsort(y_pred)\n",
        "    ranked_exposure = exposure[ranking]\n",
        "    ranked_pure_premium = y_true[ranking]\n",
        "    cumulated_claim_amount = np.cumsum(ranked_pure_premium * ranked_exposure)\n",
        "    cumulated_claim_amount /= cumulated_claim_amount[-1]\n",
        "    cumulated_samples = np.linspace(0, 1, len(cumulated_claim_amount))\n",
        "    return cumulated_samples, cumulated_claim_amount\n",
        "\n",
        "fig, ax = plt.subplots(1,2,figsize=(10, 5))\n",
        "for label, y_pred in [(\"Frequency-Severity Model\", expected_claims),\n",
        "                      (\"Tweedie Model\", tweedie_preds)]:\n",
        "    ordered_samples, cum_claims = lorenz_curve(test[severity_target], y_pred, test[severity_target].index)\n",
        "    gini = 1 - 2 * metrics.auc(ordered_samples, cum_claims)\n",
        "    ax.ravel()[0].plot(ordered_samples, cum_claims, linestyle=\"-\", label=label + \" (Gini index: {:.3f})\".format(gini))\n",
        "\n",
        "ordered_samples, cum_claims = lorenz_curve(test[severity_target], test[severity_target], test[severity_target].index)\n",
        "gini = 1 - 2 * metrics.auc(ordered_samples, cum_claims)\n",
        "ax.ravel()[0].plot(ordered_samples, cum_claims, linestyle=\"-.\", color=\"gray\",label=\"Actual (Gini index: {:.3f})\".format(gini))\n",
        "\n",
        "ax.ravel()[0].plot([0, 1], [0, 1], linestyle=\"--\", color=\"black\")\n",
        "ax.ravel()[0].set(title=\"Lorenz Curves\",xlabel=('Fraction of policyholders\\n''(ordered by index of test dataframe)'),ylabel='Fraction of total claim amount')\n",
        "ax.ravel()[0].legend(loc=\"upper left\")\n",
        "\n",
        "ax.ravel()[1].hist(test[severity_target],label='Actual Claims')\n",
        "ax.ravel()[1].hist(expected_claims,label='Frequency-Severity Model')\n",
        "ax.ravel()[1].hist(tweedie_preds,label='Tweedie Model')\n",
        "ax.ravel()[1].legend();\n",
        "ax.ravel()[1].set_title('Claims Distribution');\n",
        "ax.ravel()[1].set_xlabel('Claim Amount');\n",
        "ax.ravel()[1].set_ylabel('Frequency');\n",
        "\n",
        "plt.tight_layout();"
      ],
      "execution_count": null,
      "outputs": [
        {
          "output_type": "display_data",
          "data": {
            "image/png": "[encoded data removed]",
            "text/plain": [
              "<Figure size 720x360 with 2 Axes>"
            ]
          },
          "metadata": {
            "tags": []
          }
        }
      ]
    },
    {
      "cell_type": "markdown",
      "metadata": {
        "id": "eDJqOIL6H_BT"
      },
      "source": [
        ">The Gini coefficient measures the inequality among values of a frequency distribution (for example, levels of income). A Gini coefficient of zero expresses perfect equality, where all values are the same (for example, where everyone has the same income). A Gini coefficient of one (or 100%) expresses maximal inequality among values (e.g., for a large number of people where only one person has all the income or consumption and all others have none, the Gini coefficient will be nearly one)."
      ]
    },
    {
      "cell_type": "markdown",
      "metadata": {
        "id": "o4vZCjqhfh5p"
      },
      "source": [
        "## Conclusions"
      ]
    },
    {
      "cell_type": "markdown",
      "metadata": {
        "id": "XKCkM6wKflrO"
      },
      "source": [
        "- With the right parameters calculated from a variable we can use the probability distributions functions to draw samples from the same distribution\n",
        "    -  Is important to know how and when to use each distribution when needed based on the target variable and the problem requirements\n",
        "\n",
        "- To aproximate the real distribution you need to draw a large number of samples (kind of obvious but good to have it written down)\n",
        "\n",
        "- Frequency - Severity Model:\n",
        "    - Pros:\n",
        "        - Ability to improve and analyze models individually\n",
        "            - Extend more frequency based models while keeping severity simple \n",
        "    - Cons:\n",
        "        - Highly increased complexity for hyperparameters tunning and feature selection\n",
        "\n",
        "- Tweedie Model:\n",
        "    - Pros:\n",
        "        - Easier to apply tuning techniques for hyperparameters and feature selection since is just one model\n",
        "    - Cons:\n",
        "        - Even though we can choose the ratio between Poisson - Gamma might be hard to maximize the performance from each component of the compound model\n",
        "\n",
        "- We do not have a good metric to meassure how good are our models in solving the insurance expected loss prediction other than the lorezn curve"
      ]
    },
    {
      "cell_type": "markdown",
      "metadata": {
        "id": "X8j0y2fUj3gD"
      },
      "source": [
        "## Follow Up Questions\n",
        "\n"
      ]
    },
    {
      "cell_type": "markdown",
      "metadata": {
        "id": "6wzj1vQOIWaG"
      },
      "source": [
        "\n",
        "- can we use PDF to infer the distribution of a variable ?\n"
      ]
    },
    {
      "cell_type": "markdown",
      "metadata": {
        "id": "c7K9ch1ntNLD"
      },
      "source": [
        "## References"
      ]
    },
    {
      "cell_type": "markdown",
      "metadata": {
        "id": "QI7QB4l8tO9S"
      },
      "source": [
        "- [Empirical Distributions](https://www.unf.edu/~cwinton/html/cop4300/s09/class.notes/DiscreteDist.pdf)\n",
        "\n",
        "- [Gamma Distribution in a RocTopple Probabilistic Analysis](https://www.rocscience.com/help/roctopple/roctopple/Gamma_Distribution.htm)\n",
        "\n",
        "- [Poisson Distribution](https://www.statlect.com/probability-distributions/Poisson-distribution)\n",
        "\n",
        "- [tweedie-vs-poisson-gamma](https://www.simoncoulombe.com/2020/03/tweedie-vs-poisson-gamma/)"
      ]
    }
  ]
}